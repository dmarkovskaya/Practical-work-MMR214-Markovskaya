{
 "cells": [
  {
   "cell_type": "markdown",
   "id": "e7d7bb16",
   "metadata": {},
   "source": [
    "# Анализ датасета \"Насилие в отношении женщин и девочек\""
   ]
  },
  {
   "cell_type": "markdown",
   "id": "94c63087",
   "metadata": {},
   "source": [
    "**Record ID** Числовое значение, уникальное для каждого вопроса по стране\n",
    "\n",
    "**Country**\tСтрана, в которой проводился опрос\n",
    "\n",
    "**Gender**\tЯвлялись ли респонденты мужчинами или женщинами.\n",
    "\n",
    "**Demographics Question**\tОтносится к различным типам демографических групп, используемых для сегментации респондентов - семейное положение, уровень образования, статус занятости, тип проживания или возраст.\n",
    "\n",
    "**Demographics Response**\tОзначает демографический сегмент, в который попадает респондент (например, возрастные группы делятся на 15-24, 25-34 и 35-49 лет).\n",
    "\n",
    "**Survey Year**\tГод, в котором проводилось обследование демографии и здоровья (ОДЗ). \"Обследования DHS - это национально репрезентативные обследования домашних хозяйств, которые предоставляют данные для широкого спектра показателей мониторинга и оценки воздействия в области народонаселения, здоровья и питания. Стандартные обследования DHS имеют большой размер выборки (обычно от 5 000 до 30 000 домохозяйств) и обычно проводятся примерно раз в 5 лет, что позволяет проводить сравнение во времени.\"\n",
    "\n",
    "**Value**\t% опрошенных в соответствующей группе, согласных с вопросом (например, процент женщин в возрасте 15-24 лет в Афганистане, согласных с тем, что муж имеет право ударить или избить свою жену, если она поджигает еду)."
   ]
  },
  {
   "cell_type": "markdown",
   "id": "b676bcbe",
   "metadata": {},
   "source": [
    "**Вопрос | Респондентов спросили, согласны ли они со следующими утверждениями:**\n",
    "\n",
    "Муж имеет право бить или избивать жену, если она поджигает еду\n",
    "\n",
    "Муж имеет право бить или избивать свою жену, если она спорит с ним\n",
    "\n",
    "Муж имеет право бить или избивать свою жену, если она уходит из дома, не предупредив его\n",
    "\n",
    "Муж имеет право бить или избивать свою жену, если она не заботится о детях\n",
    "\n",
    "Муж имеет право бить или избивать свою жену, если она отказывается заниматься с ним сексом\n",
    "\n",
    "Муж имеет право бить или избивать свою жену по крайней мере по одной конкретной причине"
   ]
  },
  {
   "cell_type": "code",
   "execution_count": 337,
   "id": "afc3c116",
   "metadata": {},
   "outputs": [],
   "source": [
    "import pandas as pd\n",
    "import matplotlib.pyplot as plt\n",
    "import warnings\n",
    "import scipy.stats\n",
    "import numpy as np\n",
    "\n",
    "warnings.filterwarnings('ignore')"
   ]
  },
  {
   "cell_type": "code",
   "execution_count": 338,
   "id": "344f7909",
   "metadata": {},
   "outputs": [
    {
     "data": {
      "text/html": [
       "<div>\n",
       "<style scoped>\n",
       "    .dataframe tbody tr th:only-of-type {\n",
       "        vertical-align: middle;\n",
       "    }\n",
       "\n",
       "    .dataframe tbody tr th {\n",
       "        vertical-align: top;\n",
       "    }\n",
       "\n",
       "    .dataframe thead th {\n",
       "        text-align: right;\n",
       "    }\n",
       "</style>\n",
       "<table border=\"1\" class=\"dataframe\">\n",
       "  <thead>\n",
       "    <tr style=\"text-align: right;\">\n",
       "      <th></th>\n",
       "      <th>RecordID</th>\n",
       "      <th>Country</th>\n",
       "      <th>Gender</th>\n",
       "      <th>Demographics Question</th>\n",
       "      <th>Demographics Response</th>\n",
       "      <th>Question</th>\n",
       "      <th>Survey Year</th>\n",
       "      <th>Value</th>\n",
       "    </tr>\n",
       "  </thead>\n",
       "  <tbody>\n",
       "    <tr>\n",
       "      <th>0</th>\n",
       "      <td>1</td>\n",
       "      <td>Afghanistan</td>\n",
       "      <td>F</td>\n",
       "      <td>Marital status</td>\n",
       "      <td>Never married</td>\n",
       "      <td>... if she burns the food</td>\n",
       "      <td>01/01/2015</td>\n",
       "      <td>NaN</td>\n",
       "    </tr>\n",
       "    <tr>\n",
       "      <th>1</th>\n",
       "      <td>1</td>\n",
       "      <td>Afghanistan</td>\n",
       "      <td>F</td>\n",
       "      <td>Education</td>\n",
       "      <td>Higher</td>\n",
       "      <td>... if she burns the food</td>\n",
       "      <td>01/01/2015</td>\n",
       "      <td>10.1</td>\n",
       "    </tr>\n",
       "    <tr>\n",
       "      <th>2</th>\n",
       "      <td>1</td>\n",
       "      <td>Afghanistan</td>\n",
       "      <td>F</td>\n",
       "      <td>Education</td>\n",
       "      <td>Secondary</td>\n",
       "      <td>... if she burns the food</td>\n",
       "      <td>01/01/2015</td>\n",
       "      <td>13.7</td>\n",
       "    </tr>\n",
       "    <tr>\n",
       "      <th>3</th>\n",
       "      <td>1</td>\n",
       "      <td>Afghanistan</td>\n",
       "      <td>F</td>\n",
       "      <td>Education</td>\n",
       "      <td>Primary</td>\n",
       "      <td>... if she burns the food</td>\n",
       "      <td>01/01/2015</td>\n",
       "      <td>13.8</td>\n",
       "    </tr>\n",
       "    <tr>\n",
       "      <th>4</th>\n",
       "      <td>1</td>\n",
       "      <td>Afghanistan</td>\n",
       "      <td>F</td>\n",
       "      <td>Marital status</td>\n",
       "      <td>Widowed, divorced, separated</td>\n",
       "      <td>... if she burns the food</td>\n",
       "      <td>01/01/2015</td>\n",
       "      <td>13.8</td>\n",
       "    </tr>\n",
       "  </tbody>\n",
       "</table>\n",
       "</div>"
      ],
      "text/plain": [
       "   RecordID      Country Gender Demographics Question  \\\n",
       "0         1  Afghanistan      F        Marital status   \n",
       "1         1  Afghanistan      F             Education   \n",
       "2         1  Afghanistan      F             Education   \n",
       "3         1  Afghanistan      F             Education   \n",
       "4         1  Afghanistan      F        Marital status   \n",
       "\n",
       "          Demographics Response                   Question Survey Year  Value  \n",
       "0                 Never married  ... if she burns the food  01/01/2015    NaN  \n",
       "1                        Higher  ... if she burns the food  01/01/2015   10.1  \n",
       "2                     Secondary  ... if she burns the food  01/01/2015   13.7  \n",
       "3                       Primary  ... if she burns the food  01/01/2015   13.8  \n",
       "4  Widowed, divorced, separated  ... if she burns the food  01/01/2015   13.8  "
      ]
     },
     "execution_count": 338,
     "metadata": {},
     "output_type": "execute_result"
    }
   ],
   "source": [
    "df = pd.read_csv(\"Violence Against Women  Girls Data.csv\", sep = ',')\n",
    "df.head()"
   ]
  },
  {
   "cell_type": "code",
   "execution_count": null,
   "id": "6a299d7d",
   "metadata": {},
   "outputs": [],
   "source": []
  },
  {
   "cell_type": "code",
   "execution_count": 339,
   "id": "c727dcb8",
   "metadata": {},
   "outputs": [
    {
     "data": {
      "text/html": [
       "<div>\n",
       "<style scoped>\n",
       "    .dataframe tbody tr th:only-of-type {\n",
       "        vertical-align: middle;\n",
       "    }\n",
       "\n",
       "    .dataframe tbody tr th {\n",
       "        vertical-align: top;\n",
       "    }\n",
       "\n",
       "    .dataframe thead th {\n",
       "        text-align: right;\n",
       "    }\n",
       "</style>\n",
       "<table border=\"1\" class=\"dataframe\">\n",
       "  <thead>\n",
       "    <tr style=\"text-align: right;\">\n",
       "      <th></th>\n",
       "      <th>RecordID</th>\n",
       "      <th>Country</th>\n",
       "      <th>Gender</th>\n",
       "      <th>Demographics Question</th>\n",
       "      <th>Demographics Response</th>\n",
       "      <th>Question</th>\n",
       "      <th>Survey Year</th>\n",
       "      <th>Value</th>\n",
       "    </tr>\n",
       "  </thead>\n",
       "  <tbody>\n",
       "    <tr>\n",
       "      <th>12595</th>\n",
       "      <td>210</td>\n",
       "      <td>Zimbabwe</td>\n",
       "      <td>M</td>\n",
       "      <td>Residence</td>\n",
       "      <td>Urban</td>\n",
       "      <td>... if she goes out without telling him</td>\n",
       "      <td>01/01/2015</td>\n",
       "      <td>11.8</td>\n",
       "    </tr>\n",
       "    <tr>\n",
       "      <th>12596</th>\n",
       "      <td>280</td>\n",
       "      <td>Zimbabwe</td>\n",
       "      <td>M</td>\n",
       "      <td>Residence</td>\n",
       "      <td>Rural</td>\n",
       "      <td>... if she neglects the children</td>\n",
       "      <td>01/01/2015</td>\n",
       "      <td>20.1</td>\n",
       "    </tr>\n",
       "    <tr>\n",
       "      <th>12597</th>\n",
       "      <td>280</td>\n",
       "      <td>Zimbabwe</td>\n",
       "      <td>M</td>\n",
       "      <td>Residence</td>\n",
       "      <td>Urban</td>\n",
       "      <td>... if she neglects the children</td>\n",
       "      <td>01/01/2015</td>\n",
       "      <td>15.0</td>\n",
       "    </tr>\n",
       "    <tr>\n",
       "      <th>12598</th>\n",
       "      <td>350</td>\n",
       "      <td>Zimbabwe</td>\n",
       "      <td>M</td>\n",
       "      <td>Residence</td>\n",
       "      <td>Rural</td>\n",
       "      <td>... if she refuses to have sex with him</td>\n",
       "      <td>01/01/2015</td>\n",
       "      <td>7.2</td>\n",
       "    </tr>\n",
       "    <tr>\n",
       "      <th>12599</th>\n",
       "      <td>350</td>\n",
       "      <td>Zimbabwe</td>\n",
       "      <td>M</td>\n",
       "      <td>Residence</td>\n",
       "      <td>Urban</td>\n",
       "      <td>... if she refuses to have sex with him</td>\n",
       "      <td>01/01/2015</td>\n",
       "      <td>3.7</td>\n",
       "    </tr>\n",
       "  </tbody>\n",
       "</table>\n",
       "</div>"
      ],
      "text/plain": [
       "       RecordID   Country Gender Demographics Question Demographics Response  \\\n",
       "12595       210  Zimbabwe      M             Residence                 Urban   \n",
       "12596       280  Zimbabwe      M             Residence                 Rural   \n",
       "12597       280  Zimbabwe      M             Residence                 Urban   \n",
       "12598       350  Zimbabwe      M             Residence                 Rural   \n",
       "12599       350  Zimbabwe      M             Residence                 Urban   \n",
       "\n",
       "                                      Question Survey Year  Value  \n",
       "12595  ... if she goes out without telling him  01/01/2015   11.8  \n",
       "12596         ... if she neglects the children  01/01/2015   20.1  \n",
       "12597         ... if she neglects the children  01/01/2015   15.0  \n",
       "12598  ... if she refuses to have sex with him  01/01/2015    7.2  \n",
       "12599  ... if she refuses to have sex with him  01/01/2015    3.7  "
      ]
     },
     "execution_count": 339,
     "metadata": {},
     "output_type": "execute_result"
    }
   ],
   "source": [
    "df.tail()"
   ]
  },
  {
   "cell_type": "code",
   "execution_count": 340,
   "id": "533bbc5f",
   "metadata": {},
   "outputs": [
    {
     "data": {
      "text/plain": [
       "Index(['RecordID', 'Country', 'Gender', 'Demographics Question',\n",
       "       'Demographics Response', 'Question', 'Survey Year', 'Value'],\n",
       "      dtype='object')"
      ]
     },
     "execution_count": 340,
     "metadata": {},
     "output_type": "execute_result"
    }
   ],
   "source": [
    "df.columns #были выведены все столбцы"
   ]
  },
  {
   "cell_type": "code",
   "execution_count": 341,
   "id": "c4b6084e",
   "metadata": {},
   "outputs": [
    {
     "data": {
      "text/plain": [
       "(12600, 8)"
      ]
     },
     "execution_count": 341,
     "metadata": {},
     "output_type": "execute_result"
    }
   ],
   "source": [
    "df.shape #в датасете 12600 рядов и 8 колонок"
   ]
  },
  {
   "cell_type": "code",
   "execution_count": 342,
   "id": "b8a06818",
   "metadata": {
    "scrolled": true
   },
   "outputs": [
    {
     "name": "stdout",
     "output_type": "stream",
     "text": [
      "<class 'pandas.core.frame.DataFrame'>\n",
      "RangeIndex: 12600 entries, 0 to 12599\n",
      "Data columns (total 8 columns):\n",
      " #   Column                 Non-Null Count  Dtype  \n",
      "---  ------                 --------------  -----  \n",
      " 0   RecordID               12600 non-null  int64  \n",
      " 1   Country                12600 non-null  object \n",
      " 2   Gender                 12600 non-null  object \n",
      " 3   Demographics Question  12600 non-null  object \n",
      " 4   Demographics Response  12600 non-null  object \n",
      " 5   Question               12600 non-null  object \n",
      " 6   Survey Year            12600 non-null  object \n",
      " 7   Value                  11187 non-null  float64\n",
      "dtypes: float64(1), int64(1), object(6)\n",
      "memory usage: 787.6+ KB\n"
     ]
    }
   ],
   "source": [
    "df.info() #в столбце value есть пропущенные значения, в этом датасете тип данных: строки, вещественные числа и целые числа"
   ]
  },
  {
   "cell_type": "code",
   "execution_count": 343,
   "id": "6869891d",
   "metadata": {
    "scrolled": false
   },
   "outputs": [
    {
     "data": {
      "text/plain": [
       "array(['Afghanistan', 'Albania', 'Angola', 'Armenia', 'Azerbaijan',\n",
       "       'Bangladesh', 'Benin', 'Bolivia', 'Burkina Faso', 'Burundi',\n",
       "       'Cambodia', 'Cameroon', 'Chad', 'Colombia', 'Comoros', 'Congo',\n",
       "       'Congo Democratic Republic', \"Cote d'Ivoire\", 'Dominican Republic',\n",
       "       'Egypt', 'Eritrea', 'Eswatini', 'Ethiopia', 'Gabon', 'Gambia',\n",
       "       'Ghana', 'Guatemala', 'Guinea', 'Guyana', 'Haiti', 'Honduras',\n",
       "       'India', 'Indonesia', 'Jordan', 'Kenya', 'Kyrgyz Republic',\n",
       "       'Lesotho', 'Liberia', 'Madagascar', 'Malawi', 'Maldives', 'Mali',\n",
       "       'Moldova', 'Morocco', 'Mozambique', 'Myanmar', 'Namibia', 'Nepal',\n",
       "       'Nicaragua', 'Niger', 'Nigeria', 'Pakistan', 'Peru', 'Philippines',\n",
       "       'Rwanda', 'Sao Tome and Principe', 'Senegal', 'Sierra Leone',\n",
       "       'South Africa', 'Tajikistan', 'Tanzania', 'Timor-Leste', 'Togo',\n",
       "       'Turkey', 'Turkmenistan', 'Uganda', 'Ukraine', 'Yemen', 'Zambia',\n",
       "       'Zimbabwe'], dtype=object)"
      ]
     },
     "execution_count": 343,
     "metadata": {},
     "output_type": "execute_result"
    }
   ],
   "source": [
    "df['Country'].unique() #все страны в датасете"
   ]
  },
  {
   "cell_type": "code",
   "execution_count": 344,
   "id": "85f0516f",
   "metadata": {},
   "outputs": [
    {
     "data": {
      "text/plain": [
       "array(['F', 'M'], dtype=object)"
      ]
     },
     "execution_count": 344,
     "metadata": {},
     "output_type": "execute_result"
    }
   ],
   "source": [
    "df['Gender'].unique() #и женщины, и мужчины принимали участие в опросе"
   ]
  },
  {
   "cell_type": "code",
   "execution_count": 345,
   "id": "8e43e602",
   "metadata": {},
   "outputs": [
    {
     "data": {
      "text/html": [
       "<div>\n",
       "<style scoped>\n",
       "    .dataframe tbody tr th:only-of-type {\n",
       "        vertical-align: middle;\n",
       "    }\n",
       "\n",
       "    .dataframe tbody tr th {\n",
       "        vertical-align: top;\n",
       "    }\n",
       "\n",
       "    .dataframe thead th {\n",
       "        text-align: right;\n",
       "    }\n",
       "</style>\n",
       "<table border=\"1\" class=\"dataframe\">\n",
       "  <thead>\n",
       "    <tr style=\"text-align: right;\">\n",
       "      <th></th>\n",
       "      <th>Country</th>\n",
       "      <th>Gender</th>\n",
       "      <th>Question</th>\n",
       "    </tr>\n",
       "  </thead>\n",
       "  <tbody>\n",
       "    <tr>\n",
       "      <th>0</th>\n",
       "      <td>Afghanistan</td>\n",
       "      <td>F</td>\n",
       "      <td>... if she burns the food</td>\n",
       "    </tr>\n",
       "    <tr>\n",
       "      <th>1</th>\n",
       "      <td>Afghanistan</td>\n",
       "      <td>F</td>\n",
       "      <td>... if she burns the food</td>\n",
       "    </tr>\n",
       "    <tr>\n",
       "      <th>2</th>\n",
       "      <td>Afghanistan</td>\n",
       "      <td>F</td>\n",
       "      <td>... if she burns the food</td>\n",
       "    </tr>\n",
       "    <tr>\n",
       "      <th>3</th>\n",
       "      <td>Afghanistan</td>\n",
       "      <td>F</td>\n",
       "      <td>... if she burns the food</td>\n",
       "    </tr>\n",
       "    <tr>\n",
       "      <th>4</th>\n",
       "      <td>Afghanistan</td>\n",
       "      <td>F</td>\n",
       "      <td>... if she burns the food</td>\n",
       "    </tr>\n",
       "    <tr>\n",
       "      <th>...</th>\n",
       "      <td>...</td>\n",
       "      <td>...</td>\n",
       "      <td>...</td>\n",
       "    </tr>\n",
       "    <tr>\n",
       "      <th>12595</th>\n",
       "      <td>Zimbabwe</td>\n",
       "      <td>M</td>\n",
       "      <td>... if she goes out without telling him</td>\n",
       "    </tr>\n",
       "    <tr>\n",
       "      <th>12596</th>\n",
       "      <td>Zimbabwe</td>\n",
       "      <td>M</td>\n",
       "      <td>... if she neglects the children</td>\n",
       "    </tr>\n",
       "    <tr>\n",
       "      <th>12597</th>\n",
       "      <td>Zimbabwe</td>\n",
       "      <td>M</td>\n",
       "      <td>... if she neglects the children</td>\n",
       "    </tr>\n",
       "    <tr>\n",
       "      <th>12598</th>\n",
       "      <td>Zimbabwe</td>\n",
       "      <td>M</td>\n",
       "      <td>... if she refuses to have sex with him</td>\n",
       "    </tr>\n",
       "    <tr>\n",
       "      <th>12599</th>\n",
       "      <td>Zimbabwe</td>\n",
       "      <td>M</td>\n",
       "      <td>... if she refuses to have sex with him</td>\n",
       "    </tr>\n",
       "  </tbody>\n",
       "</table>\n",
       "<p>12600 rows × 3 columns</p>\n",
       "</div>"
      ],
      "text/plain": [
       "           Country Gender                                 Question\n",
       "0      Afghanistan      F                ... if she burns the food\n",
       "1      Afghanistan      F                ... if she burns the food\n",
       "2      Afghanistan      F                ... if she burns the food\n",
       "3      Afghanistan      F                ... if she burns the food\n",
       "4      Afghanistan      F                ... if she burns the food\n",
       "...            ...    ...                                      ...\n",
       "12595     Zimbabwe      M  ... if she goes out without telling him\n",
       "12596     Zimbabwe      M         ... if she neglects the children\n",
       "12597     Zimbabwe      M         ... if she neglects the children\n",
       "12598     Zimbabwe      M  ... if she refuses to have sex with him\n",
       "12599     Zimbabwe      M  ... if she refuses to have sex with him\n",
       "\n",
       "[12600 rows x 3 columns]"
      ]
     },
     "execution_count": 345,
     "metadata": {},
     "output_type": "execute_result"
    }
   ],
   "source": [
    "df[['Country', 'Gender', 'Question']]"
   ]
  },
  {
   "cell_type": "code",
   "execution_count": 346,
   "id": "e720b955",
   "metadata": {
    "scrolled": true
   },
   "outputs": [
    {
     "data": {
      "text/plain": [
       "'... if she neglects the children'"
      ]
     },
     "execution_count": 346,
     "metadata": {},
     "output_type": "execute_result"
    }
   ],
   "source": [
    "df.iloc[1050]['Question']"
   ]
  },
  {
   "cell_type": "code",
   "execution_count": 347,
   "id": "146359f7",
   "metadata": {},
   "outputs": [
    {
     "data": {
      "text/plain": [
       "(2520, 8)"
      ]
     },
     "execution_count": 347,
     "metadata": {},
     "output_type": "execute_result"
    }
   ],
   "source": [
    "df[df['Demographics Question'] == 'Marital status'].shape"
   ]
  },
  {
   "cell_type": "code",
   "execution_count": 348,
   "id": "4492fd87",
   "metadata": {},
   "outputs": [],
   "source": [
    "#2520 строк, в которых людям задали вопрос про семейное положение"
   ]
  },
  {
   "cell_type": "code",
   "execution_count": 349,
   "id": "429f6505",
   "metadata": {},
   "outputs": [
    {
     "data": {
      "text/plain": [
       "(840, 8)"
      ]
     },
     "execution_count": 349,
     "metadata": {},
     "output_type": "execute_result"
    }
   ],
   "source": [
    "df[(df['Demographics Question'] == 'Marital status') \n",
    "   & (df['Demographics Response'] == 'Married or living together')].shape"
   ]
  },
  {
   "cell_type": "code",
   "execution_count": 350,
   "id": "05f7d992",
   "metadata": {},
   "outputs": [],
   "source": [
    "#840 реподентов ответили, что они замужем или живут вместе"
   ]
  },
  {
   "cell_type": "code",
   "execution_count": 351,
   "id": "cdd7ebf4",
   "metadata": {},
   "outputs": [
    {
     "data": {
      "text/plain": [
       "(11760, 8)"
      ]
     },
     "execution_count": 351,
     "metadata": {},
     "output_type": "execute_result"
    }
   ],
   "source": [
    "df[~((df['Demographics Question'] == 'Marital status') \n",
    "     & (df['Demographics Response'] == 'Married or living together'))].shape"
   ]
  },
  {
   "cell_type": "code",
   "execution_count": 352,
   "id": "7d57f144",
   "metadata": {},
   "outputs": [],
   "source": [
    "#все вопросы кроме вопросов про семейное положение и все ответы респондентов кроме 'женаты или живут вместе'"
   ]
  },
  {
   "cell_type": "code",
   "execution_count": 353,
   "id": "b1547025",
   "metadata": {},
   "outputs": [
    {
     "data": {
      "text/plain": [
       "(1413, 8)"
      ]
     },
     "execution_count": 353,
     "metadata": {},
     "output_type": "execute_result"
    }
   ],
   "source": [
    "df[df['Value'].isna()].shape"
   ]
  },
  {
   "cell_type": "code",
   "execution_count": 354,
   "id": "862e286c",
   "metadata": {},
   "outputs": [],
   "source": [
    "#только те ряды, в которых пропущено значение value"
   ]
  },
  {
   "cell_type": "code",
   "execution_count": 355,
   "id": "9d6761c0",
   "metadata": {},
   "outputs": [
    {
     "data": {
      "text/plain": [
       "(1680, 8)"
      ]
     },
     "execution_count": 355,
     "metadata": {},
     "output_type": "execute_result"
    }
   ],
   "source": [
    "df[df['Demographics Response'].isin(['Married or living together', 'Widowed, divorced, separated'])].shape"
   ]
  },
  {
   "cell_type": "code",
   "execution_count": 356,
   "id": "e0709209",
   "metadata": {},
   "outputs": [],
   "source": [
    "#записи ответов тех респодентов, кто женат или живут вместе или вдов, разведенных, разлученных"
   ]
  },
  {
   "cell_type": "code",
   "execution_count": 357,
   "id": "98bc35b9",
   "metadata": {
    "scrolled": false
   },
   "outputs": [
    {
     "data": {
      "text/plain": [
       "(16, 8)"
      ]
     },
     "execution_count": 357,
     "metadata": {},
     "output_type": "execute_result"
    }
   ],
   "source": [
    "df[df['Value'].isin(range(70,100))].shape"
   ]
  },
  {
   "cell_type": "markdown",
   "id": "b785f73f",
   "metadata": {},
   "source": [
    "отфильтрованы 16 рядов, в которых высокое значение % опрошенных в соответствующей группе, которые согласны с вопросом и оправдывают насилие по этой причине"
   ]
  },
  {
   "cell_type": "code",
   "execution_count": 358,
   "id": "97753f06",
   "metadata": {},
   "outputs": [
    {
     "data": {
      "text/plain": [
       "66       86.9\n",
       "7783     86.1\n",
       "11023    85.2\n",
       "7423     83.3\n",
       "3666     82.8\n",
       "         ... \n",
       "12235     NaN\n",
       "12236     NaN\n",
       "12237     NaN\n",
       "12238     NaN\n",
       "12239     NaN\n",
       "Name: Value, Length: 12600, dtype: float64"
      ]
     },
     "execution_count": 358,
     "metadata": {},
     "output_type": "execute_result"
    }
   ],
   "source": [
    "df['Value'].sort_values(ascending=False) #пропущенные значения не сортируются, самое максимальное значение % опрошенных в соответствующей группе, которые согласны с вопросом = 86.9"
   ]
  },
  {
   "cell_type": "code",
   "execution_count": 359,
   "id": "68ab0d01",
   "metadata": {
    "scrolled": false
   },
   "outputs": [
    {
     "data": {
      "text/html": [
       "<div>\n",
       "<style scoped>\n",
       "    .dataframe tbody tr th:only-of-type {\n",
       "        vertical-align: middle;\n",
       "    }\n",
       "\n",
       "    .dataframe tbody tr th {\n",
       "        vertical-align: top;\n",
       "    }\n",
       "\n",
       "    .dataframe thead th {\n",
       "        text-align: right;\n",
       "    }\n",
       "</style>\n",
       "<table border=\"1\" class=\"dataframe\">\n",
       "  <thead>\n",
       "    <tr style=\"text-align: right;\">\n",
       "      <th></th>\n",
       "      <th>RecordID</th>\n",
       "      <th>Country</th>\n",
       "      <th>Gender</th>\n",
       "      <th>Demographics Question</th>\n",
       "      <th>Demographics Response</th>\n",
       "      <th>Question</th>\n",
       "      <th>Survey Year</th>\n",
       "      <th>Value</th>\n",
       "    </tr>\n",
       "  </thead>\n",
       "  <tbody>\n",
       "    <tr>\n",
       "      <th>66</th>\n",
       "      <td>351</td>\n",
       "      <td>Afghanistan</td>\n",
       "      <td>F</td>\n",
       "      <td>Employment</td>\n",
       "      <td>Employed for kind</td>\n",
       "      <td>... for at least one specific reason</td>\n",
       "      <td>01/01/2015</td>\n",
       "      <td>86.9</td>\n",
       "    </tr>\n",
       "    <tr>\n",
       "      <th>7783</th>\n",
       "      <td>394</td>\n",
       "      <td>Morocco</td>\n",
       "      <td>F</td>\n",
       "      <td>Employment</td>\n",
       "      <td>Employed for kind</td>\n",
       "      <td>... for at least one specific reason</td>\n",
       "      <td>01/01/2003</td>\n",
       "      <td>86.1</td>\n",
       "    </tr>\n",
       "    <tr>\n",
       "      <th>11023</th>\n",
       "      <td>412</td>\n",
       "      <td>Timor-Leste</td>\n",
       "      <td>F</td>\n",
       "      <td>Employment</td>\n",
       "      <td>Employed for kind</td>\n",
       "      <td>... for at least one specific reason</td>\n",
       "      <td>01/01/2016</td>\n",
       "      <td>85.2</td>\n",
       "    </tr>\n",
       "    <tr>\n",
       "      <th>7423</th>\n",
       "      <td>392</td>\n",
       "      <td>Mali</td>\n",
       "      <td>F</td>\n",
       "      <td>Employment</td>\n",
       "      <td>Employed for kind</td>\n",
       "      <td>... for at least one specific reason</td>\n",
       "      <td>01/01/2018</td>\n",
       "      <td>83.3</td>\n",
       "    </tr>\n",
       "    <tr>\n",
       "      <th>3666</th>\n",
       "      <td>371</td>\n",
       "      <td>Eritrea</td>\n",
       "      <td>F</td>\n",
       "      <td>Employment</td>\n",
       "      <td>Employed for kind</td>\n",
       "      <td>... for at least one specific reason</td>\n",
       "      <td>01/01/2002</td>\n",
       "      <td>82.8</td>\n",
       "    </tr>\n",
       "    <tr>\n",
       "      <th>...</th>\n",
       "      <td>...</td>\n",
       "      <td>...</td>\n",
       "      <td>...</td>\n",
       "      <td>...</td>\n",
       "      <td>...</td>\n",
       "      <td>...</td>\n",
       "      <td>...</td>\n",
       "      <td>...</td>\n",
       "    </tr>\n",
       "    <tr>\n",
       "      <th>12235</th>\n",
       "      <td>208</td>\n",
       "      <td>Yemen</td>\n",
       "      <td>M</td>\n",
       "      <td>Residence</td>\n",
       "      <td>Urban</td>\n",
       "      <td>... if she goes out without telling him</td>\n",
       "      <td>01/01/2013</td>\n",
       "      <td>NaN</td>\n",
       "    </tr>\n",
       "    <tr>\n",
       "      <th>12236</th>\n",
       "      <td>278</td>\n",
       "      <td>Yemen</td>\n",
       "      <td>M</td>\n",
       "      <td>Residence</td>\n",
       "      <td>Rural</td>\n",
       "      <td>... if she neglects the children</td>\n",
       "      <td>01/01/2013</td>\n",
       "      <td>NaN</td>\n",
       "    </tr>\n",
       "    <tr>\n",
       "      <th>12237</th>\n",
       "      <td>278</td>\n",
       "      <td>Yemen</td>\n",
       "      <td>M</td>\n",
       "      <td>Residence</td>\n",
       "      <td>Urban</td>\n",
       "      <td>... if she neglects the children</td>\n",
       "      <td>01/01/2013</td>\n",
       "      <td>NaN</td>\n",
       "    </tr>\n",
       "    <tr>\n",
       "      <th>12238</th>\n",
       "      <td>348</td>\n",
       "      <td>Yemen</td>\n",
       "      <td>M</td>\n",
       "      <td>Residence</td>\n",
       "      <td>Rural</td>\n",
       "      <td>... if she refuses to have sex with him</td>\n",
       "      <td>01/01/2013</td>\n",
       "      <td>NaN</td>\n",
       "    </tr>\n",
       "    <tr>\n",
       "      <th>12239</th>\n",
       "      <td>348</td>\n",
       "      <td>Yemen</td>\n",
       "      <td>M</td>\n",
       "      <td>Residence</td>\n",
       "      <td>Urban</td>\n",
       "      <td>... if she refuses to have sex with him</td>\n",
       "      <td>01/01/2013</td>\n",
       "      <td>NaN</td>\n",
       "    </tr>\n",
       "  </tbody>\n",
       "</table>\n",
       "<p>12600 rows × 8 columns</p>\n",
       "</div>"
      ],
      "text/plain": [
       "       RecordID      Country Gender Demographics Question  \\\n",
       "66          351  Afghanistan      F            Employment   \n",
       "7783        394      Morocco      F            Employment   \n",
       "11023       412  Timor-Leste      F            Employment   \n",
       "7423        392         Mali      F            Employment   \n",
       "3666        371      Eritrea      F            Employment   \n",
       "...         ...          ...    ...                   ...   \n",
       "12235       208        Yemen      M             Residence   \n",
       "12236       278        Yemen      M             Residence   \n",
       "12237       278        Yemen      M             Residence   \n",
       "12238       348        Yemen      M             Residence   \n",
       "12239       348        Yemen      M             Residence   \n",
       "\n",
       "      Demographics Response                                 Question  \\\n",
       "66        Employed for kind     ... for at least one specific reason   \n",
       "7783      Employed for kind     ... for at least one specific reason   \n",
       "11023     Employed for kind     ... for at least one specific reason   \n",
       "7423      Employed for kind     ... for at least one specific reason   \n",
       "3666      Employed for kind     ... for at least one specific reason   \n",
       "...                     ...                                      ...   \n",
       "12235                 Urban  ... if she goes out without telling him   \n",
       "12236                 Rural         ... if she neglects the children   \n",
       "12237                 Urban         ... if she neglects the children   \n",
       "12238                 Rural  ... if she refuses to have sex with him   \n",
       "12239                 Urban  ... if she refuses to have sex with him   \n",
       "\n",
       "      Survey Year  Value  \n",
       "66     01/01/2015   86.9  \n",
       "7783   01/01/2003   86.1  \n",
       "11023  01/01/2016   85.2  \n",
       "7423   01/01/2018   83.3  \n",
       "3666   01/01/2002   82.8  \n",
       "...           ...    ...  \n",
       "12235  01/01/2013    NaN  \n",
       "12236  01/01/2013    NaN  \n",
       "12237  01/01/2013    NaN  \n",
       "12238  01/01/2013    NaN  \n",
       "12239  01/01/2013    NaN  \n",
       "\n",
       "[12600 rows x 8 columns]"
      ]
     },
     "execution_count": 359,
     "metadata": {},
     "output_type": "execute_result"
    }
   ],
   "source": [
    "df.sort_values(by=['Value'],ascending=False)"
   ]
  },
  {
   "cell_type": "code",
   "execution_count": 360,
   "id": "b085cfb1",
   "metadata": {},
   "outputs": [
    {
     "data": {
      "text/html": [
       "<div>\n",
       "<style scoped>\n",
       "    .dataframe tbody tr th:only-of-type {\n",
       "        vertical-align: middle;\n",
       "    }\n",
       "\n",
       "    .dataframe tbody tr th {\n",
       "        vertical-align: top;\n",
       "    }\n",
       "\n",
       "    .dataframe thead th {\n",
       "        text-align: right;\n",
       "    }\n",
       "</style>\n",
       "<table border=\"1\" class=\"dataframe\">\n",
       "  <thead>\n",
       "    <tr style=\"text-align: right;\">\n",
       "      <th></th>\n",
       "      <th>RecordID</th>\n",
       "      <th>Country</th>\n",
       "      <th>Gender</th>\n",
       "      <th>Demographics Question</th>\n",
       "      <th>Demographics Response</th>\n",
       "      <th>Question</th>\n",
       "      <th>Value</th>\n",
       "    </tr>\n",
       "  </thead>\n",
       "  <tbody>\n",
       "    <tr>\n",
       "      <th>0</th>\n",
       "      <td>1</td>\n",
       "      <td>Afghanistan</td>\n",
       "      <td>F</td>\n",
       "      <td>Marital status</td>\n",
       "      <td>Never married</td>\n",
       "      <td>... if she burns the food</td>\n",
       "      <td>NaN</td>\n",
       "    </tr>\n",
       "    <tr>\n",
       "      <th>1</th>\n",
       "      <td>1</td>\n",
       "      <td>Afghanistan</td>\n",
       "      <td>F</td>\n",
       "      <td>Education</td>\n",
       "      <td>Higher</td>\n",
       "      <td>... if she burns the food</td>\n",
       "      <td>10.1</td>\n",
       "    </tr>\n",
       "    <tr>\n",
       "      <th>2</th>\n",
       "      <td>1</td>\n",
       "      <td>Afghanistan</td>\n",
       "      <td>F</td>\n",
       "      <td>Education</td>\n",
       "      <td>Secondary</td>\n",
       "      <td>... if she burns the food</td>\n",
       "      <td>13.7</td>\n",
       "    </tr>\n",
       "    <tr>\n",
       "      <th>3</th>\n",
       "      <td>1</td>\n",
       "      <td>Afghanistan</td>\n",
       "      <td>F</td>\n",
       "      <td>Education</td>\n",
       "      <td>Primary</td>\n",
       "      <td>... if she burns the food</td>\n",
       "      <td>13.8</td>\n",
       "    </tr>\n",
       "    <tr>\n",
       "      <th>4</th>\n",
       "      <td>1</td>\n",
       "      <td>Afghanistan</td>\n",
       "      <td>F</td>\n",
       "      <td>Marital status</td>\n",
       "      <td>Widowed, divorced, separated</td>\n",
       "      <td>... if she burns the food</td>\n",
       "      <td>13.8</td>\n",
       "    </tr>\n",
       "    <tr>\n",
       "      <th>...</th>\n",
       "      <td>...</td>\n",
       "      <td>...</td>\n",
       "      <td>...</td>\n",
       "      <td>...</td>\n",
       "      <td>...</td>\n",
       "      <td>...</td>\n",
       "      <td>...</td>\n",
       "    </tr>\n",
       "    <tr>\n",
       "      <th>12595</th>\n",
       "      <td>210</td>\n",
       "      <td>Zimbabwe</td>\n",
       "      <td>M</td>\n",
       "      <td>Residence</td>\n",
       "      <td>Urban</td>\n",
       "      <td>... if she goes out without telling him</td>\n",
       "      <td>11.8</td>\n",
       "    </tr>\n",
       "    <tr>\n",
       "      <th>12596</th>\n",
       "      <td>280</td>\n",
       "      <td>Zimbabwe</td>\n",
       "      <td>M</td>\n",
       "      <td>Residence</td>\n",
       "      <td>Rural</td>\n",
       "      <td>... if she neglects the children</td>\n",
       "      <td>20.1</td>\n",
       "    </tr>\n",
       "    <tr>\n",
       "      <th>12597</th>\n",
       "      <td>280</td>\n",
       "      <td>Zimbabwe</td>\n",
       "      <td>M</td>\n",
       "      <td>Residence</td>\n",
       "      <td>Urban</td>\n",
       "      <td>... if she neglects the children</td>\n",
       "      <td>15.0</td>\n",
       "    </tr>\n",
       "    <tr>\n",
       "      <th>12598</th>\n",
       "      <td>350</td>\n",
       "      <td>Zimbabwe</td>\n",
       "      <td>M</td>\n",
       "      <td>Residence</td>\n",
       "      <td>Rural</td>\n",
       "      <td>... if she refuses to have sex with him</td>\n",
       "      <td>7.2</td>\n",
       "    </tr>\n",
       "    <tr>\n",
       "      <th>12599</th>\n",
       "      <td>350</td>\n",
       "      <td>Zimbabwe</td>\n",
       "      <td>M</td>\n",
       "      <td>Residence</td>\n",
       "      <td>Urban</td>\n",
       "      <td>... if she refuses to have sex with him</td>\n",
       "      <td>3.7</td>\n",
       "    </tr>\n",
       "  </tbody>\n",
       "</table>\n",
       "<p>12600 rows × 7 columns</p>\n",
       "</div>"
      ],
      "text/plain": [
       "       RecordID      Country Gender Demographics Question  \\\n",
       "0             1  Afghanistan      F        Marital status   \n",
       "1             1  Afghanistan      F             Education   \n",
       "2             1  Afghanistan      F             Education   \n",
       "3             1  Afghanistan      F             Education   \n",
       "4             1  Afghanistan      F        Marital status   \n",
       "...         ...          ...    ...                   ...   \n",
       "12595       210     Zimbabwe      M             Residence   \n",
       "12596       280     Zimbabwe      M             Residence   \n",
       "12597       280     Zimbabwe      M             Residence   \n",
       "12598       350     Zimbabwe      M             Residence   \n",
       "12599       350     Zimbabwe      M             Residence   \n",
       "\n",
       "              Demographics Response                                 Question  \\\n",
       "0                     Never married                ... if she burns the food   \n",
       "1                            Higher                ... if she burns the food   \n",
       "2                         Secondary                ... if she burns the food   \n",
       "3                           Primary                ... if she burns the food   \n",
       "4      Widowed, divorced, separated                ... if she burns the food   \n",
       "...                             ...                                      ...   \n",
       "12595                         Urban  ... if she goes out without telling him   \n",
       "12596                         Rural         ... if she neglects the children   \n",
       "12597                         Urban         ... if she neglects the children   \n",
       "12598                         Rural  ... if she refuses to have sex with him   \n",
       "12599                         Urban  ... if she refuses to have sex with him   \n",
       "\n",
       "       Value  \n",
       "0        NaN  \n",
       "1       10.1  \n",
       "2       13.7  \n",
       "3       13.8  \n",
       "4       13.8  \n",
       "...      ...  \n",
       "12595   11.8  \n",
       "12596   20.1  \n",
       "12597   15.0  \n",
       "12598    7.2  \n",
       "12599    3.7  \n",
       "\n",
       "[12600 rows x 7 columns]"
      ]
     },
     "execution_count": 360,
     "metadata": {},
     "output_type": "execute_result"
    }
   ],
   "source": [
    "df.drop('Survey Year', axis = 1)"
   ]
  },
  {
   "cell_type": "code",
   "execution_count": 361,
   "id": "f393ce13",
   "metadata": {},
   "outputs": [
    {
     "data": {
      "text/html": [
       "<div>\n",
       "<style scoped>\n",
       "    .dataframe tbody tr th:only-of-type {\n",
       "        vertical-align: middle;\n",
       "    }\n",
       "\n",
       "    .dataframe tbody tr th {\n",
       "        vertical-align: top;\n",
       "    }\n",
       "\n",
       "    .dataframe thead th {\n",
       "        text-align: right;\n",
       "    }\n",
       "</style>\n",
       "<table border=\"1\" class=\"dataframe\">\n",
       "  <thead>\n",
       "    <tr style=\"text-align: right;\">\n",
       "      <th></th>\n",
       "      <th>RecordID</th>\n",
       "      <th>Country</th>\n",
       "      <th>Gender</th>\n",
       "      <th>Demographics Question</th>\n",
       "      <th>Demographics Response</th>\n",
       "      <th>Question</th>\n",
       "      <th>Survey Year</th>\n",
       "      <th>Value</th>\n",
       "    </tr>\n",
       "  </thead>\n",
       "  <tbody>\n",
       "    <tr>\n",
       "      <th>0</th>\n",
       "      <td>1</td>\n",
       "      <td>Afghanistan</td>\n",
       "      <td>F</td>\n",
       "      <td>Marital status</td>\n",
       "      <td>Never married</td>\n",
       "      <td>... if she burns the food</td>\n",
       "      <td>01/01/2015</td>\n",
       "      <td>NaN</td>\n",
       "    </tr>\n",
       "    <tr>\n",
       "      <th>1</th>\n",
       "      <td>1</td>\n",
       "      <td>Afghanistan</td>\n",
       "      <td>F</td>\n",
       "      <td>Education</td>\n",
       "      <td>Higher</td>\n",
       "      <td>... if she burns the food</td>\n",
       "      <td>01/01/2015</td>\n",
       "      <td>10.1</td>\n",
       "    </tr>\n",
       "    <tr>\n",
       "      <th>2</th>\n",
       "      <td>1</td>\n",
       "      <td>Afghanistan</td>\n",
       "      <td>F</td>\n",
       "      <td>Education</td>\n",
       "      <td>Secondary</td>\n",
       "      <td>... if she burns the food</td>\n",
       "      <td>01/01/2015</td>\n",
       "      <td>13.7</td>\n",
       "    </tr>\n",
       "    <tr>\n",
       "      <th>3</th>\n",
       "      <td>1</td>\n",
       "      <td>Afghanistan</td>\n",
       "      <td>F</td>\n",
       "      <td>Education</td>\n",
       "      <td>Primary</td>\n",
       "      <td>... if she burns the food</td>\n",
       "      <td>01/01/2015</td>\n",
       "      <td>13.8</td>\n",
       "    </tr>\n",
       "    <tr>\n",
       "      <th>4</th>\n",
       "      <td>1</td>\n",
       "      <td>Afghanistan</td>\n",
       "      <td>F</td>\n",
       "      <td>Marital status</td>\n",
       "      <td>Widowed, divorced, separated</td>\n",
       "      <td>... if she burns the food</td>\n",
       "      <td>01/01/2015</td>\n",
       "      <td>13.8</td>\n",
       "    </tr>\n",
       "  </tbody>\n",
       "</table>\n",
       "</div>"
      ],
      "text/plain": [
       "   RecordID      Country Gender Demographics Question  \\\n",
       "0         1  Afghanistan      F        Marital status   \n",
       "1         1  Afghanistan      F             Education   \n",
       "2         1  Afghanistan      F             Education   \n",
       "3         1  Afghanistan      F             Education   \n",
       "4         1  Afghanistan      F        Marital status   \n",
       "\n",
       "          Demographics Response                   Question Survey Year  Value  \n",
       "0                 Never married  ... if she burns the food  01/01/2015    NaN  \n",
       "1                        Higher  ... if she burns the food  01/01/2015   10.1  \n",
       "2                     Secondary  ... if she burns the food  01/01/2015   13.7  \n",
       "3                       Primary  ... if she burns the food  01/01/2015   13.8  \n",
       "4  Widowed, divorced, separated  ... if she burns the food  01/01/2015   13.8  "
      ]
     },
     "execution_count": 361,
     "metadata": {},
     "output_type": "execute_result"
    }
   ],
   "source": [
    "df.head()"
   ]
  },
  {
   "cell_type": "code",
   "execution_count": 362,
   "id": "da405410",
   "metadata": {
    "scrolled": false
   },
   "outputs": [
    {
     "data": {
      "text/plain": [
       "0        2015-01-01\n",
       "1        2015-01-01\n",
       "2        2015-01-01\n",
       "3        2015-01-01\n",
       "4        2015-01-01\n",
       "            ...    \n",
       "12595    2015-01-01\n",
       "12596    2015-01-01\n",
       "12597    2015-01-01\n",
       "12598    2015-01-01\n",
       "12599    2015-01-01\n",
       "Name: Survey Year, Length: 12600, dtype: object"
      ]
     },
     "execution_count": 362,
     "metadata": {},
     "output_type": "execute_result"
    }
   ],
   "source": [
    "pd.to_datetime(df['Survey Year'], dayfirst=True).dt.date"
   ]
  },
  {
   "cell_type": "code",
   "execution_count": 363,
   "id": "66142bf5",
   "metadata": {},
   "outputs": [],
   "source": [
    "df['Survey Year'] = pd.to_datetime(df['Survey Year']).dt.year"
   ]
  },
  {
   "cell_type": "code",
   "execution_count": 364,
   "id": "b84cbce9",
   "metadata": {
    "scrolled": true
   },
   "outputs": [
    {
     "data": {
      "text/plain": [
       "(360, 8)"
      ]
     },
     "execution_count": 364,
     "metadata": {},
     "output_type": "execute_result"
    }
   ],
   "source": [
    "df[df['Survey Year'] == 2018].shape #самое крайнее исследование проводилось в 2018 году"
   ]
  },
  {
   "cell_type": "code",
   "execution_count": 365,
   "id": "b01d7440",
   "metadata": {},
   "outputs": [
    {
     "data": {
      "text/plain": [
       "<AxesSubplot:xlabel='Survey Year'>"
      ]
     },
     "execution_count": 365,
     "metadata": {},
     "output_type": "execute_result"
    },
    {
     "data": {
      "image/png": "[encoded data removed]",
      "text/plain": [
       "<Figure size 1440x720 with 1 Axes>"
      ]
     },
     "metadata": {},
     "output_type": "display_data"
    }
   ],
   "source": [
    "df.groupby(df['Survey Year'])['Value'].mean().plot(figsize = (20, 10)) # строим график, отображающий средний показатель согласия с течением времени"
   ]
  },
  {
   "cell_type": "code",
   "execution_count": 366,
   "id": "be33e700",
   "metadata": {},
   "outputs": [
    {
     "data": {
      "text/html": [
       "<div>\n",
       "<style scoped>\n",
       "    .dataframe tbody tr th:only-of-type {\n",
       "        vertical-align: middle;\n",
       "    }\n",
       "\n",
       "    .dataframe tbody tr th {\n",
       "        vertical-align: top;\n",
       "    }\n",
       "\n",
       "    .dataframe thead th {\n",
       "        text-align: right;\n",
       "    }\n",
       "</style>\n",
       "<table border=\"1\" class=\"dataframe\">\n",
       "  <thead>\n",
       "    <tr style=\"text-align: right;\">\n",
       "      <th></th>\n",
       "      <th>RecordID</th>\n",
       "      <th>Country</th>\n",
       "      <th>Gender</th>\n",
       "      <th>Demographics Question</th>\n",
       "      <th>Demographics Response</th>\n",
       "      <th>Question</th>\n",
       "      <th>Survey Year</th>\n",
       "      <th>Value</th>\n",
       "      <th>Value_categories</th>\n",
       "    </tr>\n",
       "  </thead>\n",
       "  <tbody>\n",
       "    <tr>\n",
       "      <th>1</th>\n",
       "      <td>1</td>\n",
       "      <td>Afghanistan</td>\n",
       "      <td>F</td>\n",
       "      <td>Education</td>\n",
       "      <td>Higher</td>\n",
       "      <td>... if she burns the food</td>\n",
       "      <td>2015</td>\n",
       "      <td>10.1</td>\n",
       "      <td>Малый процент согласия</td>\n",
       "    </tr>\n",
       "    <tr>\n",
       "      <th>2</th>\n",
       "      <td>1</td>\n",
       "      <td>Afghanistan</td>\n",
       "      <td>F</td>\n",
       "      <td>Education</td>\n",
       "      <td>Secondary</td>\n",
       "      <td>... if she burns the food</td>\n",
       "      <td>2015</td>\n",
       "      <td>13.7</td>\n",
       "      <td>Малый процент согласия</td>\n",
       "    </tr>\n",
       "    <tr>\n",
       "      <th>3</th>\n",
       "      <td>1</td>\n",
       "      <td>Afghanistan</td>\n",
       "      <td>F</td>\n",
       "      <td>Education</td>\n",
       "      <td>Primary</td>\n",
       "      <td>... if she burns the food</td>\n",
       "      <td>2015</td>\n",
       "      <td>13.8</td>\n",
       "      <td>Малый процент согласия</td>\n",
       "    </tr>\n",
       "    <tr>\n",
       "      <th>4</th>\n",
       "      <td>1</td>\n",
       "      <td>Afghanistan</td>\n",
       "      <td>F</td>\n",
       "      <td>Marital status</td>\n",
       "      <td>Widowed, divorced, separated</td>\n",
       "      <td>... if she burns the food</td>\n",
       "      <td>2015</td>\n",
       "      <td>13.8</td>\n",
       "      <td>Малый процент согласия</td>\n",
       "    </tr>\n",
       "    <tr>\n",
       "      <th>5</th>\n",
       "      <td>1</td>\n",
       "      <td>Afghanistan</td>\n",
       "      <td>F</td>\n",
       "      <td>Employment</td>\n",
       "      <td>Employed for kind</td>\n",
       "      <td>... if she burns the food</td>\n",
       "      <td>2015</td>\n",
       "      <td>17.0</td>\n",
       "      <td>Малый процент согласия</td>\n",
       "    </tr>\n",
       "    <tr>\n",
       "      <th>...</th>\n",
       "      <td>...</td>\n",
       "      <td>...</td>\n",
       "      <td>...</td>\n",
       "      <td>...</td>\n",
       "      <td>...</td>\n",
       "      <td>...</td>\n",
       "      <td>...</td>\n",
       "      <td>...</td>\n",
       "      <td>...</td>\n",
       "    </tr>\n",
       "    <tr>\n",
       "      <th>12595</th>\n",
       "      <td>210</td>\n",
       "      <td>Zimbabwe</td>\n",
       "      <td>M</td>\n",
       "      <td>Residence</td>\n",
       "      <td>Urban</td>\n",
       "      <td>... if she goes out without telling him</td>\n",
       "      <td>2015</td>\n",
       "      <td>11.8</td>\n",
       "      <td>Малый процент согласия</td>\n",
       "    </tr>\n",
       "    <tr>\n",
       "      <th>12596</th>\n",
       "      <td>280</td>\n",
       "      <td>Zimbabwe</td>\n",
       "      <td>M</td>\n",
       "      <td>Residence</td>\n",
       "      <td>Rural</td>\n",
       "      <td>... if she neglects the children</td>\n",
       "      <td>2015</td>\n",
       "      <td>20.1</td>\n",
       "      <td>Малый процент согласия</td>\n",
       "    </tr>\n",
       "    <tr>\n",
       "      <th>12597</th>\n",
       "      <td>280</td>\n",
       "      <td>Zimbabwe</td>\n",
       "      <td>M</td>\n",
       "      <td>Residence</td>\n",
       "      <td>Urban</td>\n",
       "      <td>... if she neglects the children</td>\n",
       "      <td>2015</td>\n",
       "      <td>15.0</td>\n",
       "      <td>Малый процент согласия</td>\n",
       "    </tr>\n",
       "    <tr>\n",
       "      <th>12598</th>\n",
       "      <td>350</td>\n",
       "      <td>Zimbabwe</td>\n",
       "      <td>M</td>\n",
       "      <td>Residence</td>\n",
       "      <td>Rural</td>\n",
       "      <td>... if she refuses to have sex with him</td>\n",
       "      <td>2015</td>\n",
       "      <td>7.2</td>\n",
       "      <td>Малый процент согласия</td>\n",
       "    </tr>\n",
       "    <tr>\n",
       "      <th>12599</th>\n",
       "      <td>350</td>\n",
       "      <td>Zimbabwe</td>\n",
       "      <td>M</td>\n",
       "      <td>Residence</td>\n",
       "      <td>Urban</td>\n",
       "      <td>... if she refuses to have sex with him</td>\n",
       "      <td>2015</td>\n",
       "      <td>3.7</td>\n",
       "      <td>Малый процент согласия</td>\n",
       "    </tr>\n",
       "  </tbody>\n",
       "</table>\n",
       "<p>11187 rows × 9 columns</p>\n",
       "</div>"
      ],
      "text/plain": [
       "       RecordID      Country Gender Demographics Question  \\\n",
       "1             1  Afghanistan      F             Education   \n",
       "2             1  Afghanistan      F             Education   \n",
       "3             1  Afghanistan      F             Education   \n",
       "4             1  Afghanistan      F        Marital status   \n",
       "5             1  Afghanistan      F            Employment   \n",
       "...         ...          ...    ...                   ...   \n",
       "12595       210     Zimbabwe      M             Residence   \n",
       "12596       280     Zimbabwe      M             Residence   \n",
       "12597       280     Zimbabwe      M             Residence   \n",
       "12598       350     Zimbabwe      M             Residence   \n",
       "12599       350     Zimbabwe      M             Residence   \n",
       "\n",
       "              Demographics Response                                 Question  \\\n",
       "1                            Higher                ... if she burns the food   \n",
       "2                         Secondary                ... if she burns the food   \n",
       "3                           Primary                ... if she burns the food   \n",
       "4      Widowed, divorced, separated                ... if she burns the food   \n",
       "5                 Employed for kind                ... if she burns the food   \n",
       "...                             ...                                      ...   \n",
       "12595                         Urban  ... if she goes out without telling him   \n",
       "12596                         Rural         ... if she neglects the children   \n",
       "12597                         Urban         ... if she neglects the children   \n",
       "12598                         Rural  ... if she refuses to have sex with him   \n",
       "12599                         Urban  ... if she refuses to have sex with him   \n",
       "\n",
       "       Survey Year  Value        Value_categories  \n",
       "1             2015   10.1  Малый процент согласия  \n",
       "2             2015   13.7  Малый процент согласия  \n",
       "3             2015   13.8  Малый процент согласия  \n",
       "4             2015   13.8  Малый процент согласия  \n",
       "5             2015   17.0  Малый процент согласия  \n",
       "...            ...    ...                     ...  \n",
       "12595         2015   11.8  Малый процент согласия  \n",
       "12596         2015   20.1  Малый процент согласия  \n",
       "12597         2015   15.0  Малый процент согласия  \n",
       "12598         2015    7.2  Малый процент согласия  \n",
       "12599         2015    3.7  Малый процент согласия  \n",
       "\n",
       "[11187 rows x 9 columns]"
      ]
     },
     "execution_count": 366,
     "metadata": {},
     "output_type": "execute_result"
    }
   ],
   "source": [
    "# Создаем из значений столбца Value новый столбец Value_categories, который отображает категориальный тип согласия с насилием \n",
    "def categories(value):\n",
    "    if value <= 30:\n",
    "        return 'Малый процент согласия'\n",
    "    elif value <= 50:\n",
    "        return 'Средний процент согласия'\n",
    "    elif value <= 80:\n",
    "        return 'Большой процент согласия'\n",
    "    elif value <= 100:\n",
    "        return 'Наивысший процент принятия'\n",
    "    else:\n",
    "        return value\n",
    "    \n",
    "df['Value_categories'] = df['Value'].apply(categories) # применяем ранее написанную функцию для создания нового столбца с типами согласия\n",
    "df = df.dropna() # удаляем значения NaN из общего датафрейма\n",
    "df # вывод датафрейма для проверки, что все сработало\n"
   ]
  },
  {
   "cell_type": "code",
   "execution_count": 367,
   "id": "031b0a08",
   "metadata": {},
   "outputs": [
    {
     "data": {
      "text/plain": [
       "<AxesSubplot:xlabel='Question'>"
      ]
     },
     "execution_count": 367,
     "metadata": {},
     "output_type": "execute_result"
    },
    {
     "data": {
      "image/png": "[encoded data removed]",
      "text/plain": [
       "<Figure size 432x288 with 1 Axes>"
      ]
     },
     "metadata": {},
     "output_type": "display_data"
    }
   ],
   "source": [
    "df.groupby(['Question'])['Value'].mean().plot(kind = 'bar')"
   ]
  },
  {
   "cell_type": "code",
   "execution_count": 368,
   "id": "feda5ed9",
   "metadata": {},
   "outputs": [
    {
     "data": {
      "text/html": [
       "<div>\n",
       "<style scoped>\n",
       "    .dataframe tbody tr th:only-of-type {\n",
       "        vertical-align: middle;\n",
       "    }\n",
       "\n",
       "    .dataframe tbody tr th {\n",
       "        vertical-align: top;\n",
       "    }\n",
       "\n",
       "    .dataframe thead th {\n",
       "        text-align: right;\n",
       "    }\n",
       "</style>\n",
       "<table border=\"1\" class=\"dataframe\">\n",
       "  <thead>\n",
       "    <tr style=\"text-align: right;\">\n",
       "      <th></th>\n",
       "      <th>RecordID</th>\n",
       "      <th>Country</th>\n",
       "      <th>Gender</th>\n",
       "      <th>Demographics Question</th>\n",
       "      <th>Demographics Response</th>\n",
       "      <th>Question</th>\n",
       "      <th>Survey Year</th>\n",
       "      <th>Value</th>\n",
       "      <th>Value_categories</th>\n",
       "    </tr>\n",
       "  </thead>\n",
       "  <tbody>\n",
       "    <tr>\n",
       "      <th>1</th>\n",
       "      <td>1</td>\n",
       "      <td>Afghanistan</td>\n",
       "      <td>F</td>\n",
       "      <td>Education</td>\n",
       "      <td>Higher</td>\n",
       "      <td>... if she burns the food</td>\n",
       "      <td>2015</td>\n",
       "      <td>10.1</td>\n",
       "      <td>Малый процент согласия</td>\n",
       "    </tr>\n",
       "    <tr>\n",
       "      <th>2</th>\n",
       "      <td>1</td>\n",
       "      <td>Afghanistan</td>\n",
       "      <td>F</td>\n",
       "      <td>Education</td>\n",
       "      <td>Secondary</td>\n",
       "      <td>... if she burns the food</td>\n",
       "      <td>2015</td>\n",
       "      <td>13.7</td>\n",
       "      <td>Малый процент согласия</td>\n",
       "    </tr>\n",
       "    <tr>\n",
       "      <th>3</th>\n",
       "      <td>1</td>\n",
       "      <td>Afghanistan</td>\n",
       "      <td>F</td>\n",
       "      <td>Education</td>\n",
       "      <td>Primary</td>\n",
       "      <td>... if she burns the food</td>\n",
       "      <td>2015</td>\n",
       "      <td>13.8</td>\n",
       "      <td>Малый процент согласия</td>\n",
       "    </tr>\n",
       "    <tr>\n",
       "      <th>4</th>\n",
       "      <td>1</td>\n",
       "      <td>Afghanistan</td>\n",
       "      <td>F</td>\n",
       "      <td>Marital status</td>\n",
       "      <td>Widowed, divorced, separated</td>\n",
       "      <td>... if she burns the food</td>\n",
       "      <td>2015</td>\n",
       "      <td>13.8</td>\n",
       "      <td>Малый процент согласия</td>\n",
       "    </tr>\n",
       "    <tr>\n",
       "      <th>5</th>\n",
       "      <td>1</td>\n",
       "      <td>Afghanistan</td>\n",
       "      <td>F</td>\n",
       "      <td>Employment</td>\n",
       "      <td>Employed for kind</td>\n",
       "      <td>... if she burns the food</td>\n",
       "      <td>2015</td>\n",
       "      <td>17.0</td>\n",
       "      <td>Малый процент согласия</td>\n",
       "    </tr>\n",
       "    <tr>\n",
       "      <th>...</th>\n",
       "      <td>...</td>\n",
       "      <td>...</td>\n",
       "      <td>...</td>\n",
       "      <td>...</td>\n",
       "      <td>...</td>\n",
       "      <td>...</td>\n",
       "      <td>...</td>\n",
       "      <td>...</td>\n",
       "      <td>...</td>\n",
       "    </tr>\n",
       "    <tr>\n",
       "      <th>12055</th>\n",
       "      <td>207</td>\n",
       "      <td>Ukraine</td>\n",
       "      <td>M</td>\n",
       "      <td>Residence</td>\n",
       "      <td>Urban</td>\n",
       "      <td>... if she goes out without telling him</td>\n",
       "      <td>2007</td>\n",
       "      <td>3.9</td>\n",
       "      <td>Малый процент согласия</td>\n",
       "    </tr>\n",
       "    <tr>\n",
       "      <th>12056</th>\n",
       "      <td>277</td>\n",
       "      <td>Ukraine</td>\n",
       "      <td>M</td>\n",
       "      <td>Residence</td>\n",
       "      <td>Rural</td>\n",
       "      <td>... if she neglects the children</td>\n",
       "      <td>2007</td>\n",
       "      <td>10.5</td>\n",
       "      <td>Малый процент согласия</td>\n",
       "    </tr>\n",
       "    <tr>\n",
       "      <th>12057</th>\n",
       "      <td>277</td>\n",
       "      <td>Ukraine</td>\n",
       "      <td>M</td>\n",
       "      <td>Residence</td>\n",
       "      <td>Urban</td>\n",
       "      <td>... if she neglects the children</td>\n",
       "      <td>2007</td>\n",
       "      <td>8.4</td>\n",
       "      <td>Малый процент согласия</td>\n",
       "    </tr>\n",
       "    <tr>\n",
       "      <th>12058</th>\n",
       "      <td>347</td>\n",
       "      <td>Ukraine</td>\n",
       "      <td>M</td>\n",
       "      <td>Residence</td>\n",
       "      <td>Rural</td>\n",
       "      <td>... if she refuses to have sex with him</td>\n",
       "      <td>2007</td>\n",
       "      <td>2.7</td>\n",
       "      <td>Малый процент согласия</td>\n",
       "    </tr>\n",
       "    <tr>\n",
       "      <th>12059</th>\n",
       "      <td>347</td>\n",
       "      <td>Ukraine</td>\n",
       "      <td>M</td>\n",
       "      <td>Residence</td>\n",
       "      <td>Urban</td>\n",
       "      <td>... if she refuses to have sex with him</td>\n",
       "      <td>2007</td>\n",
       "      <td>1.5</td>\n",
       "      <td>Малый процент согласия</td>\n",
       "    </tr>\n",
       "  </tbody>\n",
       "</table>\n",
       "<p>492 rows × 9 columns</p>\n",
       "</div>"
      ],
      "text/plain": [
       "       RecordID      Country Gender Demographics Question  \\\n",
       "1             1  Afghanistan      F             Education   \n",
       "2             1  Afghanistan      F             Education   \n",
       "3             1  Afghanistan      F             Education   \n",
       "4             1  Afghanistan      F        Marital status   \n",
       "5             1  Afghanistan      F            Employment   \n",
       "...         ...          ...    ...                   ...   \n",
       "12055       207      Ukraine      M             Residence   \n",
       "12056       277      Ukraine      M             Residence   \n",
       "12057       277      Ukraine      M             Residence   \n",
       "12058       347      Ukraine      M             Residence   \n",
       "12059       347      Ukraine      M             Residence   \n",
       "\n",
       "              Demographics Response                                 Question  \\\n",
       "1                            Higher                ... if she burns the food   \n",
       "2                         Secondary                ... if she burns the food   \n",
       "3                           Primary                ... if she burns the food   \n",
       "4      Widowed, divorced, separated                ... if she burns the food   \n",
       "5                 Employed for kind                ... if she burns the food   \n",
       "...                             ...                                      ...   \n",
       "12055                         Urban  ... if she goes out without telling him   \n",
       "12056                         Rural         ... if she neglects the children   \n",
       "12057                         Urban         ... if she neglects the children   \n",
       "12058                         Rural  ... if she refuses to have sex with him   \n",
       "12059                         Urban  ... if she refuses to have sex with him   \n",
       "\n",
       "       Survey Year  Value        Value_categories  \n",
       "1             2015   10.1  Малый процент согласия  \n",
       "2             2015   13.7  Малый процент согласия  \n",
       "3             2015   13.8  Малый процент согласия  \n",
       "4             2015   13.8  Малый процент согласия  \n",
       "5             2015   17.0  Малый процент согласия  \n",
       "...            ...    ...                     ...  \n",
       "12055         2007    3.9  Малый процент согласия  \n",
       "12056         2007   10.5  Малый процент согласия  \n",
       "12057         2007    8.4  Малый процент согласия  \n",
       "12058         2007    2.7  Малый процент согласия  \n",
       "12059         2007    1.5  Малый процент согласия  \n",
       "\n",
       "[492 rows x 9 columns]"
      ]
     },
     "execution_count": 368,
     "metadata": {},
     "output_type": "execute_result"
    }
   ],
   "source": [
    "# создадим новый датафрейм, который будет содержать три страны: Афганистан, Украину и Азербайджан\n",
    "df_countries = df[(df['Country'] == 'Afghanistan') | (df['Country'] == 'Ukraine') | (df['Country'] == 'Azerbaijan')]\n",
    "df_countries"
   ]
  },
  {
   "cell_type": "code",
   "execution_count": 369,
   "id": "6685a0b9",
   "metadata": {},
   "outputs": [
    {
     "data": {
      "text/plain": [
       "<AxesSubplot:ylabel='Value'>"
      ]
     },
     "execution_count": 369,
     "metadata": {},
     "output_type": "execute_result"
    },
    {
     "data": {
      "image/png": "[encoded data removed]",
      "text/plain": [
       "<Figure size 432x288 with 1 Axes>"
      ]
     },
     "metadata": {},
     "output_type": "display_data"
    }
   ],
   "source": [
    "# строим график на основе новых категорий и рассматриваемых стран\n",
    "df_countries.groupby(['Value_categories', 'Country'])['Value'].count().plot(kind = 'pie')"
   ]
  },
  {
   "cell_type": "code",
   "execution_count": 370,
   "id": "ab81cacf",
   "metadata": {},
   "outputs": [
    {
     "data": {
      "text/plain": [
       "array(['Education', 'Marital status', 'Employment', 'Age', 'Residence'],\n",
       "      dtype=object)"
      ]
     },
     "execution_count": 370,
     "metadata": {},
     "output_type": "execute_result"
    }
   ],
   "source": [
    "df['Demographics Question'].unique() # определим категории вопросов"
   ]
  },
  {
   "cell_type": "code",
   "execution_count": 371,
   "id": "70bd51bb",
   "metadata": {},
   "outputs": [],
   "source": [
    "df1 = df[(df['Demographics Question'] == 'Marital status')] #создаем новый датафрейм, который содержит только вопрос Marital status\n",
    "df2 = df[(df['Demographics Question'] == 'Education')] #создаем новый датафрейм, который содержит только вопрос Education\n",
    "df3 = df[(df['Demographics Question'] == 'Employment')] #создаем новый датафрейм, который содержит только вопрос Employment\n",
    "df4 = df[(df['Demographics Question'] == 'Age')] #создаем новый датафрейм, который содержит только вопрос Age\n",
    "df5 = df[(df['Demographics Question'] == 'Residence')] #создаем новый датафрейм, который содержит только вопрос Residence\n"
   ]
  },
  {
   "cell_type": "markdown",
   "id": "a3fa10f5",
   "metadata": {},
   "source": [
    "## 1. Проведем анализ ответов на вопрос \"Marital status\"\n",
    "#### Гипотеза: Те, кто не был в браке, либо уже не состоит в нем, в среднем меньше одобряют насилие над женщинами"
   ]
  },
  {
   "cell_type": "code",
   "execution_count": 372,
   "id": "d7779b6b",
   "metadata": {},
   "outputs": [],
   "source": [
    "df1\n",
    "df1['Demographics Response'].unique()\n",
    "# df1 = df1.dropna(subset=['Value'])\n",
    "# array(['Widowed, divorced, separated', 'Married or living together',\n",
    "#        'Never married'], dtype=object)\n",
    "# df1_sorted = df1.sort_values(by = 'Value', ascending = False)\n",
    "# df1_sorted\n",
    "\n",
    "df1_group = df1.groupby(['Question', 'Country', 'Demographics Response'])['Value'].max()\n",
    "# df1_11 = df1[((df1['Demographics Response'] == 'Widowed, divorced, separated') & (df1['Country'] == 'Azerbaijan'))]\n",
    "# df1_11['Value'].hist()"
   ]
  },
  {
   "cell_type": "code",
   "execution_count": 373,
   "id": "13fea646",
   "metadata": {},
   "outputs": [
    {
     "data": {
      "text/plain": [
       "Question                                 Country    \n",
       "... for at least one specific reason     Afghanistan    67.400000\n",
       "                                         Albania        11.866667\n",
       "                                         Angola         23.600000\n",
       "                                         Armenia        18.650000\n",
       "                                         Azerbaijan     52.750000\n",
       "                                                          ...    \n",
       "... if she refuses to have sex with him  Uganda         15.533333\n",
       "                                         Ukraine         1.350000\n",
       "                                         Yemen          31.766667\n",
       "                                         Zambia         19.950000\n",
       "                                         Zimbabwe        9.700000\n",
       "Name: Value, Length: 415, dtype: float64"
      ]
     },
     "execution_count": 373,
     "metadata": {},
     "output_type": "execute_result"
    }
   ],
   "source": [
    "df1_group = df1.groupby(['Question', 'Country'])['Value'].mean()\n",
    "df1_group"
   ]
  },
  {
   "cell_type": "code",
   "execution_count": 374,
   "id": "9c9cfd70",
   "metadata": {},
   "outputs": [
    {
     "data": {
      "text/html": [
       "<div>\n",
       "<style scoped>\n",
       "    .dataframe tbody tr th:only-of-type {\n",
       "        vertical-align: middle;\n",
       "    }\n",
       "\n",
       "    .dataframe tbody tr th {\n",
       "        vertical-align: top;\n",
       "    }\n",
       "\n",
       "    .dataframe thead th {\n",
       "        text-align: right;\n",
       "    }\n",
       "</style>\n",
       "<table border=\"1\" class=\"dataframe\">\n",
       "  <thead>\n",
       "    <tr style=\"text-align: right;\">\n",
       "      <th></th>\n",
       "      <th>RecordID</th>\n",
       "      <th>Country</th>\n",
       "      <th>Gender</th>\n",
       "      <th>Demographics Question</th>\n",
       "      <th>Demographics Response</th>\n",
       "      <th>Question</th>\n",
       "      <th>Survey Year</th>\n",
       "      <th>Value</th>\n",
       "      <th>Value_categories</th>\n",
       "    </tr>\n",
       "  </thead>\n",
       "  <tbody>\n",
       "    <tr>\n",
       "      <th>0</th>\n",
       "      <td>351</td>\n",
       "      <td>Afghanistan</td>\n",
       "      <td>F</td>\n",
       "      <td>Marital status</td>\n",
       "      <td>Married or living together</td>\n",
       "      <td>... for at least one specific reason</td>\n",
       "      <td>2015</td>\n",
       "      <td>80.6</td>\n",
       "      <td>Наивысший процент принятия</td>\n",
       "    </tr>\n",
       "    <tr>\n",
       "      <th>1</th>\n",
       "      <td>351</td>\n",
       "      <td>Afghanistan</td>\n",
       "      <td>F</td>\n",
       "      <td>Marital status</td>\n",
       "      <td>Widowed, divorced, separated</td>\n",
       "      <td>... for at least one specific reason</td>\n",
       "      <td>2015</td>\n",
       "      <td>67.6</td>\n",
       "      <td>Большой процент согласия</td>\n",
       "    </tr>\n",
       "    <tr>\n",
       "      <th>2</th>\n",
       "      <td>351</td>\n",
       "      <td>Afghanistan</td>\n",
       "      <td>M</td>\n",
       "      <td>Marital status</td>\n",
       "      <td>Married or living together</td>\n",
       "      <td>... for at least one specific reason</td>\n",
       "      <td>2015</td>\n",
       "      <td>72.6</td>\n",
       "      <td>Большой процент согласия</td>\n",
       "    </tr>\n",
       "    <tr>\n",
       "      <th>3</th>\n",
       "      <td>351</td>\n",
       "      <td>Afghanistan</td>\n",
       "      <td>M</td>\n",
       "      <td>Marital status</td>\n",
       "      <td>Widowed, divorced, separated</td>\n",
       "      <td>... for at least one specific reason</td>\n",
       "      <td>2015</td>\n",
       "      <td>48.8</td>\n",
       "      <td>Средний процент согласия</td>\n",
       "    </tr>\n",
       "    <tr>\n",
       "      <th>4</th>\n",
       "      <td>352</td>\n",
       "      <td>Albania</td>\n",
       "      <td>F</td>\n",
       "      <td>Marital status</td>\n",
       "      <td>Married or living together</td>\n",
       "      <td>... for at least one specific reason</td>\n",
       "      <td>2017</td>\n",
       "      <td>7.9</td>\n",
       "      <td>Малый процент согласия</td>\n",
       "    </tr>\n",
       "    <tr>\n",
       "      <th>...</th>\n",
       "      <td>...</td>\n",
       "      <td>...</td>\n",
       "      <td>...</td>\n",
       "      <td>...</td>\n",
       "      <td>...</td>\n",
       "      <td>...</td>\n",
       "      <td>...</td>\n",
       "      <td>...</td>\n",
       "      <td>...</td>\n",
       "    </tr>\n",
       "    <tr>\n",
       "      <th>376</th>\n",
       "      <td>420</td>\n",
       "      <td>Zimbabwe</td>\n",
       "      <td>F</td>\n",
       "      <td>Marital status</td>\n",
       "      <td>Never married</td>\n",
       "      <td>... for at least one specific reason</td>\n",
       "      <td>2015</td>\n",
       "      <td>44.6</td>\n",
       "      <td>Средний процент согласия</td>\n",
       "    </tr>\n",
       "    <tr>\n",
       "      <th>377</th>\n",
       "      <td>420</td>\n",
       "      <td>Zimbabwe</td>\n",
       "      <td>F</td>\n",
       "      <td>Marital status</td>\n",
       "      <td>Widowed, divorced, separated</td>\n",
       "      <td>... for at least one specific reason</td>\n",
       "      <td>2015</td>\n",
       "      <td>33.2</td>\n",
       "      <td>Средний процент согласия</td>\n",
       "    </tr>\n",
       "    <tr>\n",
       "      <th>378</th>\n",
       "      <td>420</td>\n",
       "      <td>Zimbabwe</td>\n",
       "      <td>M</td>\n",
       "      <td>Marital status</td>\n",
       "      <td>Married or living together</td>\n",
       "      <td>... for at least one specific reason</td>\n",
       "      <td>2015</td>\n",
       "      <td>24.6</td>\n",
       "      <td>Малый процент согласия</td>\n",
       "    </tr>\n",
       "    <tr>\n",
       "      <th>379</th>\n",
       "      <td>420</td>\n",
       "      <td>Zimbabwe</td>\n",
       "      <td>M</td>\n",
       "      <td>Marital status</td>\n",
       "      <td>Never married</td>\n",
       "      <td>... for at least one specific reason</td>\n",
       "      <td>2015</td>\n",
       "      <td>42.4</td>\n",
       "      <td>Средний процент согласия</td>\n",
       "    </tr>\n",
       "    <tr>\n",
       "      <th>380</th>\n",
       "      <td>420</td>\n",
       "      <td>Zimbabwe</td>\n",
       "      <td>M</td>\n",
       "      <td>Marital status</td>\n",
       "      <td>Widowed, divorced, separated</td>\n",
       "      <td>... for at least one specific reason</td>\n",
       "      <td>2015</td>\n",
       "      <td>28.8</td>\n",
       "      <td>Малый процент согласия</td>\n",
       "    </tr>\n",
       "  </tbody>\n",
       "</table>\n",
       "<p>381 rows × 9 columns</p>\n",
       "</div>"
      ],
      "text/plain": [
       "     RecordID      Country Gender Demographics Question  \\\n",
       "0         351  Afghanistan      F        Marital status   \n",
       "1         351  Afghanistan      F        Marital status   \n",
       "2         351  Afghanistan      M        Marital status   \n",
       "3         351  Afghanistan      M        Marital status   \n",
       "4         352      Albania      F        Marital status   \n",
       "..        ...          ...    ...                   ...   \n",
       "376       420     Zimbabwe      F        Marital status   \n",
       "377       420     Zimbabwe      F        Marital status   \n",
       "378       420     Zimbabwe      M        Marital status   \n",
       "379       420     Zimbabwe      M        Marital status   \n",
       "380       420     Zimbabwe      M        Marital status   \n",
       "\n",
       "            Demographics Response                              Question  \\\n",
       "0      Married or living together  ... for at least one specific reason   \n",
       "1    Widowed, divorced, separated  ... for at least one specific reason   \n",
       "2      Married or living together  ... for at least one specific reason   \n",
       "3    Widowed, divorced, separated  ... for at least one specific reason   \n",
       "4      Married or living together  ... for at least one specific reason   \n",
       "..                            ...                                   ...   \n",
       "376                 Never married  ... for at least one specific reason   \n",
       "377  Widowed, divorced, separated  ... for at least one specific reason   \n",
       "378    Married or living together  ... for at least one specific reason   \n",
       "379                 Never married  ... for at least one specific reason   \n",
       "380  Widowed, divorced, separated  ... for at least one specific reason   \n",
       "\n",
       "     Survey Year  Value            Value_categories  \n",
       "0           2015   80.6  Наивысший процент принятия  \n",
       "1           2015   67.6    Большой процент согласия  \n",
       "2           2015   72.6    Большой процент согласия  \n",
       "3           2015   48.8    Средний процент согласия  \n",
       "4           2017    7.9      Малый процент согласия  \n",
       "..           ...    ...                         ...  \n",
       "376         2015   44.6    Средний процент согласия  \n",
       "377         2015   33.2    Средний процент согласия  \n",
       "378         2015   24.6      Малый процент согласия  \n",
       "379         2015   42.4    Средний процент согласия  \n",
       "380         2015   28.8      Малый процент согласия  \n",
       "\n",
       "[381 rows x 9 columns]"
      ]
     },
     "execution_count": 374,
     "metadata": {},
     "output_type": "execute_result"
    }
   ],
   "source": [
    "# Создаем отдельно датафрейм df_reason, который показывает наиболее принимаемую причину рукоприкладства в каждой стране в зависимости от пола\n",
    "df_reason = df1.groupby(['Country', 'Gender', 'Demographics Response'])['Value'].max()\n",
    "# функцией merge по методу inner объединяем df_reason с исходным датафреймом df1, чтобы получить причины, которые наиболее принимаемы для конкретных стран, пола и семейного положения\n",
    "df_main_reason = pd.merge(df1, df_reason, how = 'inner', left_on = ['Country', 'Gender', 'Demographics Response', 'Value'], right_on = ['Country', 'Gender', 'Demographics Response', 'Value'])\n",
    "df_main_reason\n"
   ]
  },
  {
   "cell_type": "code",
   "execution_count": 375,
   "id": "d65373fb",
   "metadata": {},
   "outputs": [
    {
     "data": {
      "text/plain": [
       "<AxesSubplot:>"
      ]
     },
     "execution_count": 375,
     "metadata": {},
     "output_type": "execute_result"
    },
    {
     "data": {
      "image/png": "[encoded data removed]",
      "text/plain": [
       "<Figure size 432x288 with 1 Axes>"
      ]
     },
     "metadata": {},
     "output_type": "display_data"
    }
   ],
   "source": [
    "df1_12 = df1[((df1['Demographics Response'] == 'Widowed, divorced, separated') & (df1['Country'] == 'Ukraine'))]\n",
    "df1_12['Value'].hist()"
   ]
  },
  {
   "cell_type": "code",
   "execution_count": 376,
   "id": "c5af0408",
   "metadata": {},
   "outputs": [
    {
     "data": {
      "text/plain": [
       "<AxesSubplot:>"
      ]
     },
     "execution_count": 376,
     "metadata": {},
     "output_type": "execute_result"
    },
    {
     "data": {
      "image/png": "[encoded data removed]",
      "text/plain": [
       "<Figure size 432x288 with 1 Axes>"
      ]
     },
     "metadata": {},
     "output_type": "display_data"
    }
   ],
   "source": [
    "df1_13 = df1[((df1['Demographics Response'] == 'Widowed, divorced, separated') & (df1['Country'] == 'Afghanistan'))]\n",
    "df1_13['Value'].hist()"
   ]
  },
  {
   "cell_type": "code",
   "execution_count": 377,
   "id": "6d080f4f",
   "metadata": {},
   "outputs": [
    {
     "data": {
      "text/plain": [
       "<AxesSubplot:>"
      ]
     },
     "execution_count": 377,
     "metadata": {},
     "output_type": "execute_result"
    },
    {
     "data": {
      "image/png": "[encoded data removed]",
      "text/plain": [
       "<Figure size 432x288 with 1 Axes>"
      ]
     },
     "metadata": {},
     "output_type": "display_data"
    }
   ],
   "source": [
    "df1_2 = df1[(df1['Demographics Response'] == 'Married or living together') & (df1['Country'] == 'Azerbaijan')]\n",
    "df1_2['Value'].hist()"
   ]
  },
  {
   "cell_type": "code",
   "execution_count": 378,
   "id": "b7024d45",
   "metadata": {},
   "outputs": [
    {
     "data": {
      "text/plain": [
       "<AxesSubplot:>"
      ]
     },
     "execution_count": 378,
     "metadata": {},
     "output_type": "execute_result"
    },
    {
     "data": {
      "image/png": "[encoded data removed]",
      "text/plain": [
       "<Figure size 432x288 with 1 Axes>"
      ]
     },
     "metadata": {},
     "output_type": "display_data"
    }
   ],
   "source": [
    "df1_3 = df1[(df1['Demographics Response'] == 'Never married') & (df1['Country'] == 'Azerbaijan')]\n",
    "df1_3['Value'].hist(bins = 20)"
   ]
  },
  {
   "cell_type": "code",
   "execution_count": 379,
   "id": "0402a239",
   "metadata": {},
   "outputs": [
    {
     "data": {
      "text/plain": [
       "count    2221.000000\n",
       "mean       19.878433\n",
       "std        16.407660\n",
       "min         0.000000\n",
       "25%         6.800000\n",
       "50%        15.500000\n",
       "75%        29.300000\n",
       "max        82.100000\n",
       "Name: Value, dtype: float64"
      ]
     },
     "execution_count": 379,
     "metadata": {},
     "output_type": "execute_result"
    }
   ],
   "source": [
    "df1['Value'].describe() # посмотрим основную статистику"
   ]
  },
  {
   "cell_type": "code",
   "execution_count": 380,
   "id": "d78bb77d",
   "metadata": {},
   "outputs": [
    {
     "name": "stdout",
     "output_type": "stream",
     "text": [
      "6.8 29.3\n"
     ]
    }
   ],
   "source": [
    "# считаем перцентили\n",
    "df1_q1 = np.percentile(df1['Value'], 25)\n",
    "df1_q3 = np.percentile(df1['Value'], 75)\n",
    "print(df1_q1, df1_q3) "
   ]
  },
  {
   "cell_type": "code",
   "execution_count": 381,
   "id": "b7554a52",
   "metadata": {},
   "outputs": [
    {
     "name": "stdout",
     "output_type": "stream",
     "text": [
      "-26.95 63.05\n"
     ]
    }
   ],
   "source": [
    "# считаем границы, за пределами которых лежат выбросы\n",
    "iqr = df1_q3 - df1_q1\n",
    "iqr_threshold_bottom = df1_q1 - 1.5 * iqr\n",
    "iqr_threshold_top = df1_q3 + 1.5 * iqr\n",
    "print(iqr_threshold_bottom, iqr_threshold_top)"
   ]
  },
  {
   "cell_type": "code",
   "execution_count": 382,
   "id": "7026067c",
   "metadata": {},
   "outputs": [
    {
     "data": {
      "text/plain": [
       "Country\n",
       "Eritrea                      74.500000\n",
       "Afghanistan                  71.975000\n",
       "Congo Democratic Republic    71.975000\n",
       "Mali                         71.260000\n",
       "Guinea                       71.200000\n",
       "Chad                         70.233333\n",
       "Tajikistan                   70.100000\n",
       "Timor-Leste                  69.750000\n",
       "Burundi                      69.100000\n",
       "Sierra Leone                 67.900000\n",
       "Morocco                      66.600000\n",
       "Ethiopia                     65.100000\n",
       "Azerbaijan                   63.900000\n",
       "Name: Value, dtype: float64"
      ]
     },
     "execution_count": 382,
     "metadata": {},
     "output_type": "execute_result"
    }
   ],
   "source": [
    "# находим выбросы\n",
    "df1_threshold = df1[df1['Value'] > iqr_threshold_top]\n",
    "df1_threshold.groupby(['Country'])['Value'].mean().sort_values(ascending = False) # выводим список стран, в которых по семейному положению наивысшее согласие с причинами насилия над женщинами"
   ]
  },
  {
   "cell_type": "code",
   "execution_count": 383,
   "id": "6d553351",
   "metadata": {},
   "outputs": [
    {
     "data": {
      "text/plain": [
       "<AxesSubplot:>"
      ]
     },
     "execution_count": 383,
     "metadata": {},
     "output_type": "execute_result"
    },
    {
     "data": {
      "image/png": "[encoded data removed]",
      "text/plain": [
       "<Figure size 432x288 with 1 Axes>"
      ]
     },
     "metadata": {},
     "output_type": "display_data"
    }
   ],
   "source": [
    "# z-оценка \n",
    "df1['z_score'] = scipy.stats.zscore(df1['Value'])\n",
    "df1['z_score'].hist()"
   ]
  },
  {
   "cell_type": "code",
   "execution_count": 384,
   "id": "055b0a41",
   "metadata": {},
   "outputs": [],
   "source": [
    "df1 = df1[df1['Value'] < iqr_threshold_top] # избавляемся от выбросов"
   ]
  },
  {
   "cell_type": "code",
   "execution_count": 385,
   "id": "afad96ad",
   "metadata": {},
   "outputs": [
    {
     "data": {
      "text/plain": [
       "array(['Widowed, divorced, separated', 'Married or living together',\n",
       "       'Never married'], dtype=object)"
      ]
     },
     "execution_count": 385,
     "metadata": {},
     "output_type": "execute_result"
    }
   ],
   "source": [
    "df1['Demographics Response'].unique() # определяем варианты ответа на семейное положение"
   ]
  },
  {
   "cell_type": "code",
   "execution_count": 386,
   "id": "9a8a51fc",
   "metadata": {},
   "outputs": [],
   "source": [
    "# создаем отдельные столбцы в датафрейме, которые будут показывать значение value для определенной категории ответов\n",
    "\n",
    "df1['Value_widowed_divorced_separated'] = df1.apply(lambda row: row['Value'] if row['Demographics Response'] == 'Widowed, divorced, separated' else 'NaN', axis = 1)\n",
    "df1['Value_married_or_living_together'] = df1.apply(lambda row: row['Value'] if row['Demographics Response'] == 'Married or living together' else 'NaN', axis = 1)\n",
    "df1['Value_never_married'] = df1.apply(lambda row: row['Value'] if row['Demographics Response'] == 'Never married' else 'NaN', axis = 1)\n",
    "\n",
    "\n",
    "# так как lambda функция создает тип object, для построения графика его нужно превратить обратно в числовой тип данных\n",
    "df1['Value_widowed_divorced_separated'] = df1['Value_widowed_divorced_separated'].astype('str').astype('float')\n",
    "df1['Value_married_or_living_together']= df1['Value_married_or_living_together'].astype('str').astype('float')\n",
    "df1['Value_never_married'] = df1['Value_never_married'].astype('str').astype('float')"
   ]
  },
  {
   "cell_type": "code",
   "execution_count": 387,
   "id": "63ca18bd",
   "metadata": {},
   "outputs": [
    {
     "data": {
      "text/plain": [
       "<AxesSubplot:xlabel='Question'>"
      ]
     },
     "execution_count": 387,
     "metadata": {},
     "output_type": "execute_result"
    },
    {
     "data": {
      "image/png": "[encoded data removed]",
      "text/plain": [
       "<Figure size 1440x720 with 1 Axes>"
      ]
     },
     "metadata": {},
     "output_type": "display_data"
    }
   ],
   "source": [
    "df1.groupby(['Question'])['Value_widowed_divorced_separated', 'Value_married_or_living_together', 'Value_never_married'].mean().plot(kind = 'bar', color = ['#00FFFF', '#7FFFD4', '#00CED1'], figsize = (20,10))\n"
   ]
  },
  {
   "cell_type": "markdown",
   "id": "a93c7a9f",
   "metadata": {},
   "source": [
    "### Вывод: Проведя исследование данных можно прийти к выводу, что категория \"вышедших из брака\" больше других групп соглашается с причинами насилия над женщинами"
   ]
  },
  {
   "cell_type": "markdown",
   "id": "0d573d11",
   "metadata": {},
   "source": [
    "## 2. Проведем анализ ответов на вопрос \"Education\"\n",
    "### Гипотеза: Менее образованные люди, больше соглашаются с причинами насилия над женщинами"
   ]
  },
  {
   "cell_type": "code",
   "execution_count": 388,
   "id": "72dfba94",
   "metadata": {},
   "outputs": [
    {
     "data": {
      "text/plain": [
       "count    2942.000000\n",
       "mean       18.477600\n",
       "std        16.975465\n",
       "min         0.000000\n",
       "25%         5.100000\n",
       "50%        13.400000\n",
       "75%        27.500000\n",
       "max        82.000000\n",
       "Name: Value, dtype: float64"
      ]
     },
     "execution_count": 388,
     "metadata": {},
     "output_type": "execute_result"
    }
   ],
   "source": [
    "df2['Value'].describe()"
   ]
  },
  {
   "cell_type": "code",
   "execution_count": 389,
   "id": "8e8d221f",
   "metadata": {},
   "outputs": [
    {
     "name": "stdout",
     "output_type": "stream",
     "text": [
      "5.1 27.5\n"
     ]
    }
   ],
   "source": [
    "df2_q1 = np.percentile(df2['Value'], 25)\n",
    "df2_q3 = np.percentile(df2['Value'], 75)\n",
    "print(df2_q1, df2_q3)"
   ]
  },
  {
   "cell_type": "code",
   "execution_count": 390,
   "id": "5f9872ff",
   "metadata": {},
   "outputs": [
    {
     "name": "stdout",
     "output_type": "stream",
     "text": [
      "-28.499999999999993 61.099999999999994\n"
     ]
    }
   ],
   "source": [
    "iqr2 = df2_q3 - df2_q1\n",
    "iqr_threshold_bottom2 = df2_q1 - 1.5 * iqr2\n",
    "iqr_threshold_top2 = df2_q3 + 1.5 * iqr2\n",
    "print(iqr_threshold_bottom2, iqr_threshold_top2)"
   ]
  },
  {
   "cell_type": "code",
   "execution_count": 391,
   "id": "4d0f9718",
   "metadata": {},
   "outputs": [
    {
     "data": {
      "text/plain": [
       "Country\n",
       "Mali                         71.175000\n",
       "Afghanistan                  71.150000\n",
       "Eritrea                      70.966667\n",
       "Chad                         70.650000\n",
       "Congo Democratic Republic    69.650000\n",
       "Sierra Leone                 69.300000\n",
       "Morocco                      68.660000\n",
       "Ethiopia                     67.800000\n",
       "Azerbaijan                   67.650000\n",
       "Gambia                       67.300000\n",
       "Timor-Leste                  67.235714\n",
       "Guinea                       66.900000\n",
       "Tajikistan                   65.325000\n",
       "Burundi                      64.900000\n",
       "Tanzania                     63.600000\n",
       "Niger                        63.200000\n",
       "Congo                        61.350000\n",
       "Turkmenistan                 61.300000\n",
       "Name: Value, dtype: float64"
      ]
     },
     "execution_count": 391,
     "metadata": {},
     "output_type": "execute_result"
    }
   ],
   "source": [
    "df2_threshold = df2[df2['Value'] > iqr_threshold_top2]\n",
    "df2_threshold.groupby(['Country'])['Value'].mean().sort_values(ascending = False)"
   ]
  },
  {
   "cell_type": "code",
   "execution_count": 392,
   "id": "18063966",
   "metadata": {},
   "outputs": [
    {
     "data": {
      "text/plain": [
       "<AxesSubplot:>"
      ]
     },
     "execution_count": 392,
     "metadata": {},
     "output_type": "execute_result"
    },
    {
     "data": {
      "image/png": "[encoded data removed]",
      "text/plain": [
       "<Figure size 432x288 with 1 Axes>"
      ]
     },
     "metadata": {},
     "output_type": "display_data"
    }
   ],
   "source": [
    "# z-score\n",
    "df2['z_score'] = scipy.stats.zscore(df2['Value'])\n",
    "df2['z_score'].hist()"
   ]
  },
  {
   "cell_type": "code",
   "execution_count": 393,
   "id": "8ad2cf18",
   "metadata": {},
   "outputs": [
    {
     "data": {
      "text/html": [
       "<div>\n",
       "<style scoped>\n",
       "    .dataframe tbody tr th:only-of-type {\n",
       "        vertical-align: middle;\n",
       "    }\n",
       "\n",
       "    .dataframe tbody tr th {\n",
       "        vertical-align: top;\n",
       "    }\n",
       "\n",
       "    .dataframe thead th {\n",
       "        text-align: right;\n",
       "    }\n",
       "</style>\n",
       "<table border=\"1\" class=\"dataframe\">\n",
       "  <thead>\n",
       "    <tr style=\"text-align: right;\">\n",
       "      <th></th>\n",
       "      <th>RecordID</th>\n",
       "      <th>Country</th>\n",
       "      <th>Gender</th>\n",
       "      <th>Demographics Question</th>\n",
       "      <th>Demographics Response</th>\n",
       "      <th>Question</th>\n",
       "      <th>Survey Year</th>\n",
       "      <th>Value</th>\n",
       "      <th>Value_categories</th>\n",
       "      <th>z_score</th>\n",
       "    </tr>\n",
       "  </thead>\n",
       "  <tbody>\n",
       "    <tr>\n",
       "      <th>1</th>\n",
       "      <td>1</td>\n",
       "      <td>Afghanistan</td>\n",
       "      <td>F</td>\n",
       "      <td>Education</td>\n",
       "      <td>Higher</td>\n",
       "      <td>... if she burns the food</td>\n",
       "      <td>2015</td>\n",
       "      <td>10.1</td>\n",
       "      <td>Малый процент согласия</td>\n",
       "      <td>-0.493596</td>\n",
       "    </tr>\n",
       "    <tr>\n",
       "      <th>2</th>\n",
       "      <td>1</td>\n",
       "      <td>Afghanistan</td>\n",
       "      <td>F</td>\n",
       "      <td>Education</td>\n",
       "      <td>Secondary</td>\n",
       "      <td>... if she burns the food</td>\n",
       "      <td>2015</td>\n",
       "      <td>13.7</td>\n",
       "      <td>Малый процент согласия</td>\n",
       "      <td>-0.281489</td>\n",
       "    </tr>\n",
       "    <tr>\n",
       "      <th>3</th>\n",
       "      <td>1</td>\n",
       "      <td>Afghanistan</td>\n",
       "      <td>F</td>\n",
       "      <td>Education</td>\n",
       "      <td>Primary</td>\n",
       "      <td>... if she burns the food</td>\n",
       "      <td>2015</td>\n",
       "      <td>13.8</td>\n",
       "      <td>Малый процент согласия</td>\n",
       "      <td>-0.275597</td>\n",
       "    </tr>\n",
       "    <tr>\n",
       "      <th>13</th>\n",
       "      <td>1</td>\n",
       "      <td>Afghanistan</td>\n",
       "      <td>F</td>\n",
       "      <td>Education</td>\n",
       "      <td>No education</td>\n",
       "      <td>... if she burns the food</td>\n",
       "      <td>2015</td>\n",
       "      <td>19.1</td>\n",
       "      <td>Малый процент согласия</td>\n",
       "      <td>0.036671</td>\n",
       "    </tr>\n",
       "    <tr>\n",
       "      <th>16</th>\n",
       "      <td>1</td>\n",
       "      <td>Afghanistan</td>\n",
       "      <td>M</td>\n",
       "      <td>Education</td>\n",
       "      <td>Higher</td>\n",
       "      <td>... if she burns the food</td>\n",
       "      <td>2015</td>\n",
       "      <td>4.5</td>\n",
       "      <td>Малый процент согласия</td>\n",
       "      <td>-0.823540</td>\n",
       "    </tr>\n",
       "    <tr>\n",
       "      <th>...</th>\n",
       "      <td>...</td>\n",
       "      <td>...</td>\n",
       "      <td>...</td>\n",
       "      <td>...</td>\n",
       "      <td>...</td>\n",
       "      <td>...</td>\n",
       "      <td>...</td>\n",
       "      <td>...</td>\n",
       "      <td>...</td>\n",
       "      <td>...</td>\n",
       "    </tr>\n",
       "    <tr>\n",
       "      <th>12547</th>\n",
       "      <td>280</td>\n",
       "      <td>Zimbabwe</td>\n",
       "      <td>M</td>\n",
       "      <td>Education</td>\n",
       "      <td>Secondary</td>\n",
       "      <td>... if she neglects the children</td>\n",
       "      <td>2015</td>\n",
       "      <td>18.0</td>\n",
       "      <td>Малый процент согласия</td>\n",
       "      <td>-0.028140</td>\n",
       "    </tr>\n",
       "    <tr>\n",
       "      <th>12548</th>\n",
       "      <td>350</td>\n",
       "      <td>Zimbabwe</td>\n",
       "      <td>M</td>\n",
       "      <td>Education</td>\n",
       "      <td>Higher</td>\n",
       "      <td>... if she refuses to have sex with him</td>\n",
       "      <td>2015</td>\n",
       "      <td>2.9</td>\n",
       "      <td>Малый процент согласия</td>\n",
       "      <td>-0.917810</td>\n",
       "    </tr>\n",
       "    <tr>\n",
       "      <th>12549</th>\n",
       "      <td>350</td>\n",
       "      <td>Zimbabwe</td>\n",
       "      <td>M</td>\n",
       "      <td>Education</td>\n",
       "      <td>No education</td>\n",
       "      <td>... if she refuses to have sex with him</td>\n",
       "      <td>2015</td>\n",
       "      <td>16.2</td>\n",
       "      <td>Малый процент согласия</td>\n",
       "      <td>-0.134193</td>\n",
       "    </tr>\n",
       "    <tr>\n",
       "      <th>12550</th>\n",
       "      <td>350</td>\n",
       "      <td>Zimbabwe</td>\n",
       "      <td>M</td>\n",
       "      <td>Education</td>\n",
       "      <td>Primary</td>\n",
       "      <td>... if she refuses to have sex with him</td>\n",
       "      <td>2015</td>\n",
       "      <td>8.6</td>\n",
       "      <td>Малый процент согласия</td>\n",
       "      <td>-0.581974</td>\n",
       "    </tr>\n",
       "    <tr>\n",
       "      <th>12551</th>\n",
       "      <td>350</td>\n",
       "      <td>Zimbabwe</td>\n",
       "      <td>M</td>\n",
       "      <td>Education</td>\n",
       "      <td>Secondary</td>\n",
       "      <td>... if she refuses to have sex with him</td>\n",
       "      <td>2015</td>\n",
       "      <td>5.5</td>\n",
       "      <td>Малый процент согласия</td>\n",
       "      <td>-0.764622</td>\n",
       "    </tr>\n",
       "  </tbody>\n",
       "</table>\n",
       "<p>2866 rows × 10 columns</p>\n",
       "</div>"
      ],
      "text/plain": [
       "       RecordID      Country Gender Demographics Question  \\\n",
       "1             1  Afghanistan      F             Education   \n",
       "2             1  Afghanistan      F             Education   \n",
       "3             1  Afghanistan      F             Education   \n",
       "13            1  Afghanistan      F             Education   \n",
       "16            1  Afghanistan      M             Education   \n",
       "...         ...          ...    ...                   ...   \n",
       "12547       280     Zimbabwe      M             Education   \n",
       "12548       350     Zimbabwe      M             Education   \n",
       "12549       350     Zimbabwe      M             Education   \n",
       "12550       350     Zimbabwe      M             Education   \n",
       "12551       350     Zimbabwe      M             Education   \n",
       "\n",
       "      Demographics Response                                 Question  \\\n",
       "1                    Higher                ... if she burns the food   \n",
       "2                 Secondary                ... if she burns the food   \n",
       "3                   Primary                ... if she burns the food   \n",
       "13             No education                ... if she burns the food   \n",
       "16                   Higher                ... if she burns the food   \n",
       "...                     ...                                      ...   \n",
       "12547             Secondary         ... if she neglects the children   \n",
       "12548                Higher  ... if she refuses to have sex with him   \n",
       "12549          No education  ... if she refuses to have sex with him   \n",
       "12550               Primary  ... if she refuses to have sex with him   \n",
       "12551             Secondary  ... if she refuses to have sex with him   \n",
       "\n",
       "       Survey Year  Value        Value_categories   z_score  \n",
       "1             2015   10.1  Малый процент согласия -0.493596  \n",
       "2             2015   13.7  Малый процент согласия -0.281489  \n",
       "3             2015   13.8  Малый процент согласия -0.275597  \n",
       "13            2015   19.1  Малый процент согласия  0.036671  \n",
       "16            2015    4.5  Малый процент согласия -0.823540  \n",
       "...            ...    ...                     ...       ...  \n",
       "12547         2015   18.0  Малый процент согласия -0.028140  \n",
       "12548         2015    2.9  Малый процент согласия -0.917810  \n",
       "12549         2015   16.2  Малый процент согласия -0.134193  \n",
       "12550         2015    8.6  Малый процент согласия -0.581974  \n",
       "12551         2015    5.5  Малый процент согласия -0.764622  \n",
       "\n",
       "[2866 rows x 10 columns]"
      ]
     },
     "execution_count": 393,
     "metadata": {},
     "output_type": "execute_result"
    }
   ],
   "source": [
    "df2 = df2[df2['Value'] < iqr_threshold_top2]\n",
    "df2"
   ]
  },
  {
   "cell_type": "code",
   "execution_count": 394,
   "id": "6ea204a3",
   "metadata": {},
   "outputs": [],
   "source": [
    "# df2['Demographics Response'].unique()\n",
    "\n",
    "df2['Value_higher'] = df2.apply(lambda row: row['Value'] if row['Demographics Response'] == 'Higher' else 'NaN', axis = 1)\n",
    "df2['Value_secondary'] = df2.apply(lambda row: row['Value'] if row['Demographics Response'] == 'Secondary' else 'NaN', axis = 1)\n",
    "df2['Value_primary'] = df2.apply(lambda row: row['Value'] if row['Demographics Response'] == 'Primary' else 'NaN', axis = 1)\n",
    "df2['Value_NoEducation'] = df2.apply(lambda row: row['Value'] if row['Demographics Response'] == 'No education' else 'NaN', axis = 1)\n",
    "\n"
   ]
  },
  {
   "cell_type": "code",
   "execution_count": 395,
   "id": "6f936a0e",
   "metadata": {},
   "outputs": [],
   "source": [
    "df2['Value_higher'] = df2['Value_higher'].astype('str').astype('float')\n",
    "df2['Value_secondary']= df2['Value_secondary'].astype('str').astype('float')\n",
    "df2['Value_primary'] = df2['Value_primary'].astype('str').astype('float')\n",
    "df2['Value_NoEducation'] = df2['Value_NoEducation'].astype('str').astype('float')"
   ]
  },
  {
   "cell_type": "code",
   "execution_count": 396,
   "id": "2431c903",
   "metadata": {},
   "outputs": [
    {
     "data": {
      "text/plain": [
       "RecordID                   int64\n",
       "Country                   object\n",
       "Gender                    object\n",
       "Demographics Question     object\n",
       "Demographics Response     object\n",
       "Question                  object\n",
       "Survey Year                int64\n",
       "Value                    float64\n",
       "Value_categories          object\n",
       "z_score                  float64\n",
       "Value_higher             float64\n",
       "Value_secondary          float64\n",
       "Value_primary            float64\n",
       "Value_NoEducation        float64\n",
       "dtype: object"
      ]
     },
     "execution_count": 396,
     "metadata": {},
     "output_type": "execute_result"
    }
   ],
   "source": [
    "df2.dtypes"
   ]
  },
  {
   "cell_type": "code",
   "execution_count": 397,
   "id": "01b878ef",
   "metadata": {},
   "outputs": [
    {
     "data": {
      "text/plain": [
       "<AxesSubplot:xlabel='Question'>"
      ]
     },
     "execution_count": 397,
     "metadata": {},
     "output_type": "execute_result"
    },
    {
     "data": {
      "image/png": "[encoded data removed]",
      "text/plain": [
       "<Figure size 1440x720 with 1 Axes>"
      ]
     },
     "metadata": {},
     "output_type": "display_data"
    }
   ],
   "source": [
    "df2.groupby(['Question'])['Value_higher', 'Value_secondary', 'Value_primary', 'Value_NoEducation'].mean().plot(kind = 'bar', color = ['#FF69B4', '#FF1493', '#C71585', '#DB7093'], figsize = (20,10))"
   ]
  },
  {
   "cell_type": "markdown",
   "id": "a62fd68c",
   "metadata": {},
   "source": [
    "### Вывод: Гипотеза подтверждается, менее образованные люди, в среднем в большей степени оправдывают насилие над женщинами"
   ]
  },
  {
   "cell_type": "markdown",
   "id": "1022b498",
   "metadata": {},
   "source": [
    "## 3. Проведем анализ ответов на вопрос \"Employment\"\n",
    "### Гипотеза: Безработные или Работающие за выгоду, больше соглашаются с причинами насилия над женщинами"
   ]
  },
  {
   "cell_type": "code",
   "execution_count": 398,
   "id": "d0619fbb",
   "metadata": {},
   "outputs": [
    {
     "data": {
      "text/plain": [
       "count    2234.000000\n",
       "mean       21.169382\n",
       "std        17.447710\n",
       "min         0.000000\n",
       "25%         7.000000\n",
       "50%        16.400000\n",
       "75%        30.800000\n",
       "max        86.900000\n",
       "Name: Value, dtype: float64"
      ]
     },
     "execution_count": 398,
     "metadata": {},
     "output_type": "execute_result"
    }
   ],
   "source": [
    "df3['Value'].describe()"
   ]
  },
  {
   "cell_type": "code",
   "execution_count": 399,
   "id": "a4c2019b",
   "metadata": {},
   "outputs": [
    {
     "name": "stdout",
     "output_type": "stream",
     "text": [
      "7.0 30.8\n"
     ]
    }
   ],
   "source": [
    "df3_q1 = np.percentile(df3['Value'], 25)\n",
    "df3_q3 = np.percentile(df3['Value'], 75)\n",
    "print(df3_q1, df3_q3)"
   ]
  },
  {
   "cell_type": "code",
   "execution_count": 400,
   "id": "eed0f984",
   "metadata": {},
   "outputs": [
    {
     "name": "stdout",
     "output_type": "stream",
     "text": [
      "-28.700000000000003 66.5\n"
     ]
    }
   ],
   "source": [
    "iqr3 = df3_q3 - df3_q1\n",
    "iqr_threshold_bottom3 = df3_q1 - 1.5 * iqr3\n",
    "iqr_threshold_top3 = df3_q3 + 1.5 * iqr3\n",
    "print(iqr_threshold_bottom3, iqr_threshold_top3)"
   ]
  },
  {
   "cell_type": "code",
   "execution_count": 401,
   "id": "00456b9d",
   "metadata": {},
   "outputs": [
    {
     "data": {
      "text/plain": [
       "Country\n",
       "Eritrea                      76.850000\n",
       "Morocco                      76.780000\n",
       "Timor-Leste                  75.550000\n",
       "Afghanistan                  73.600000\n",
       "Mali                         73.428571\n",
       "Turkmenistan                 72.600000\n",
       "Chad                         71.825000\n",
       "Congo Democratic Republic    71.625000\n",
       "Ethiopia                     71.300000\n",
       "Sierra Leone                 70.900000\n",
       "Guinea                       69.900000\n",
       "Congo                        68.900000\n",
       "Tanzania                     68.300000\n",
       "Gambia                       67.200000\n",
       "Name: Value, dtype: float64"
      ]
     },
     "execution_count": 401,
     "metadata": {},
     "output_type": "execute_result"
    }
   ],
   "source": [
    "df3_threshold = df3[df3['Value'] > iqr_threshold_top3]\n",
    "df3_threshold.groupby(['Country'])['Value'].mean().sort_values(ascending = False)"
   ]
  },
  {
   "cell_type": "code",
   "execution_count": 402,
   "id": "30dfe5e3",
   "metadata": {},
   "outputs": [
    {
     "data": {
      "text/plain": [
       "<AxesSubplot:>"
      ]
     },
     "execution_count": 402,
     "metadata": {},
     "output_type": "execute_result"
    },
    {
     "data": {
      "image/png": "[encoded data removed]",
      "text/plain": [
       "<Figure size 432x288 with 1 Axes>"
      ]
     },
     "metadata": {},
     "output_type": "display_data"
    }
   ],
   "source": [
    "df3['z_score'] = scipy.stats.zscore(df3['Value'])\n",
    "df3['z_score'].hist()"
   ]
  },
  {
   "cell_type": "code",
   "execution_count": 403,
   "id": "aa898815",
   "metadata": {},
   "outputs": [],
   "source": [
    "df3 = df3[df3['Value'] < iqr_threshold_top3]"
   ]
  },
  {
   "cell_type": "code",
   "execution_count": 404,
   "id": "17bdc896",
   "metadata": {},
   "outputs": [],
   "source": [
    "df3['Demographics Response'].unique()\n",
    "\n",
    "df3['Value_Employed_for_kind'] = df3.apply(lambda row: row['Value'] if row['Demographics Response'] == 'Employed for kind' else 'NaN', axis = 1)\n",
    "df3['Value_Unemployed'] = df3.apply(lambda row: row['Value'] if row['Demographics Response'] == 'Unemployed' else 'NaN', axis = 1)\n",
    "df3['Value_Employed_for_cash'] = df3.apply(lambda row: row['Value'] if row['Demographics Response'] == 'Employed for cash' else 'NaN', axis = 1)\n",
    "\n",
    "df3['Value_Employed_for_kind'] = df3['Value_Employed_for_kind'].astype('str').astype('float')\n",
    "df3['Value_Unemployed']= df3['Value_Unemployed'].astype('str').astype('float')\n",
    "df3['Value_Employed_for_cash'] = df3['Value_Employed_for_cash'].astype('str').astype('float')"
   ]
  },
  {
   "cell_type": "code",
   "execution_count": 405,
   "id": "0d8d008d",
   "metadata": {},
   "outputs": [
    {
     "data": {
      "text/plain": [
       "<AxesSubplot:xlabel='Question'>"
      ]
     },
     "execution_count": 405,
     "metadata": {},
     "output_type": "execute_result"
    },
    {
     "data": {
      "image/png": "[encoded data removed]",
      "text/plain": [
       "<Figure size 1440x720 with 1 Axes>"
      ]
     },
     "metadata": {},
     "output_type": "display_data"
    }
   ],
   "source": [
    "df3.groupby(['Question'])['Value_Employed_for_kind', 'Value_Unemployed', 'Value_Employed_for_cash'].mean().plot(kind = 'bar',color = ['#9ACD32', '#6B8E23', '#006400'], figsize = (20,10))"
   ]
  },
  {
   "cell_type": "markdown",
   "id": "79abfb25",
   "metadata": {},
   "source": [
    "### Вывод: безработные в среднем на том же уровне согласны с причинами насилия над женщинами, как и обычные рабочие, в то время как работающие за выгоду в большей степени согласны с причинами насилия над женщинами, чем две другие группы"
   ]
  },
  {
   "cell_type": "markdown",
   "id": "d8b64016",
   "metadata": {},
   "source": [
    "## 4. Проведем анализ ответов на вопрос \"Age\"\n",
    "### Гипотеза: Чем моложе респондент, тем больше согласие с причинами насилия над женщинами"
   ]
  },
  {
   "cell_type": "code",
   "execution_count": 406,
   "id": "ffd2f58c",
   "metadata": {},
   "outputs": [
    {
     "data": {
      "text/plain": [
       "count    2274.000000\n",
       "mean       20.041381\n",
       "std        16.957361\n",
       "min         0.100000\n",
       "25%         6.500000\n",
       "50%        15.200000\n",
       "75%        29.550000\n",
       "max        81.500000\n",
       "Name: Value, dtype: float64"
      ]
     },
     "execution_count": 406,
     "metadata": {},
     "output_type": "execute_result"
    }
   ],
   "source": [
    "df4['Value'].describe()"
   ]
  },
  {
   "cell_type": "code",
   "execution_count": 407,
   "id": "0f3f8195",
   "metadata": {},
   "outputs": [
    {
     "name": "stdout",
     "output_type": "stream",
     "text": [
      "6.5 29.55\n"
     ]
    }
   ],
   "source": [
    "df4_q1 = np.percentile(df4['Value'], 25)\n",
    "df4_q3 = np.percentile(df4['Value'], 75)\n",
    "print(df4_q1, df4_q3)"
   ]
  },
  {
   "cell_type": "code",
   "execution_count": 408,
   "id": "c4c21c4d",
   "metadata": {},
   "outputs": [
    {
     "name": "stdout",
     "output_type": "stream",
     "text": [
      "-28.075000000000003 64.125\n"
     ]
    }
   ],
   "source": [
    "iqr4 = df4_q3 - df4_q1\n",
    "iqr_threshold_bottom4 = df4_q1 - 1.5 * iqr4\n",
    "iqr_threshold_top4 = df4_q3 + 1.5 * iqr4\n",
    "print(iqr_threshold_bottom4, iqr_threshold_top4)"
   ]
  },
  {
   "cell_type": "code",
   "execution_count": 409,
   "id": "47d23b72",
   "metadata": {},
   "outputs": [
    {
     "data": {
      "text/plain": [
       "Country\n",
       "Chad                         73.600000\n",
       "Afghanistan                  73.300000\n",
       "Congo Democratic Republic    72.725000\n",
       "Mali                         71.875000\n",
       "Eritrea                      70.833333\n",
       "Timor-Leste                  70.166667\n",
       "Tajikistan                   68.100000\n",
       "Guinea                       67.466667\n",
       "Ethiopia                     65.800000\n",
       "Sierra Leone                 65.400000\n",
       "Morocco                      65.000000\n",
       "Name: Value, dtype: float64"
      ]
     },
     "execution_count": 409,
     "metadata": {},
     "output_type": "execute_result"
    }
   ],
   "source": [
    "df4_threshold = df4[df4['Value'] > iqr_threshold_top4]\n",
    "df4_threshold.groupby(['Country'])['Value'].mean().sort_values(ascending = False)"
   ]
  },
  {
   "cell_type": "code",
   "execution_count": 410,
   "id": "da254b69",
   "metadata": {},
   "outputs": [
    {
     "data": {
      "text/plain": [
       "<AxesSubplot:>"
      ]
     },
     "execution_count": 410,
     "metadata": {},
     "output_type": "execute_result"
    },
    {
     "data": {
      "image/png": "[encoded data removed]",
      "text/plain": [
       "<Figure size 432x288 with 1 Axes>"
      ]
     },
     "metadata": {},
     "output_type": "display_data"
    }
   ],
   "source": [
    "df4['z_score'] = scipy.stats.zscore(df4['Value'])\n",
    "df4['z_score'].hist()"
   ]
  },
  {
   "cell_type": "code",
   "execution_count": 411,
   "id": "f41025fd",
   "metadata": {},
   "outputs": [],
   "source": [
    "df4 = df4[df4['Value'] < iqr_threshold_top4]"
   ]
  },
  {
   "cell_type": "code",
   "execution_count": 412,
   "id": "407d7371",
   "metadata": {},
   "outputs": [],
   "source": [
    "# df4['Demographics Response'].unique()\n",
    "\n",
    "df4['Value_Junior'] = df4.apply(lambda row: row['Value'] if row['Demographics Response'] == '15-24' else 'NaN', axis = 1)\n",
    "df4['Value_Middle'] = df4.apply(lambda row: row['Value'] if row['Demographics Response'] == '25-34' else 'NaN', axis = 1)\n",
    "df4['Value_Senior'] = df4.apply(lambda row: row['Value'] if row['Demographics Response'] == '35-49' else 'NaN', axis = 1)\n",
    "\n",
    "df4['Value_Junior'] = df4['Value_Junior'].astype('str').astype('float')\n",
    "df4['Value_Middle']= df4['Value_Middle'].astype('str').astype('float')\n",
    "df4['Value_Senior'] = df4['Value_Senior'].astype('str').astype('float')\n"
   ]
  },
  {
   "cell_type": "code",
   "execution_count": 413,
   "id": "73d781cc",
   "metadata": {},
   "outputs": [
    {
     "data": {
      "text/plain": [
       "<AxesSubplot:xlabel='Question'>"
      ]
     },
     "execution_count": 413,
     "metadata": {},
     "output_type": "execute_result"
    },
    {
     "data": {
      "image/png": "[encoded data removed]",
      "text/plain": [
       "<Figure size 1440x720 with 1 Axes>"
      ]
     },
     "metadata": {},
     "output_type": "display_data"
    }
   ],
   "source": [
    "df4.groupby(['Question'])['Value_Junior', 'Value_Middle', 'Value_Senior'].mean().plot(kind = 'bar',color = ['#000000', '#808080', '#C0C0C0'], figsize = (20,10))\n"
   ]
  },
  {
   "cell_type": "markdown",
   "id": "ccd72268",
   "metadata": {},
   "source": [
    "### Вывод: гипотеза подтверждена, как видно из графика, более молодое население более согласно с причинами насилия над женщинами"
   ]
  },
  {
   "cell_type": "markdown",
   "id": "47a8c045",
   "metadata": {},
   "source": [
    "## 5. Проведем анализ ответов на вопрос \"Residence\"\n",
    "### Гипотеза: Городское население меньше соглашается с причинами насилия над женщинами"
   ]
  },
  {
   "cell_type": "code",
   "execution_count": 414,
   "id": "2263a7c1",
   "metadata": {},
   "outputs": [
    {
     "data": {
      "text/plain": [
       "count    1516.000000\n",
       "mean       19.594921\n",
       "std        17.033095\n",
       "min         0.100000\n",
       "25%         6.175000\n",
       "50%        14.400000\n",
       "75%        28.400000\n",
       "max        82.100000\n",
       "Name: Value, dtype: float64"
      ]
     },
     "execution_count": 414,
     "metadata": {},
     "output_type": "execute_result"
    }
   ],
   "source": [
    "df5['Value'].describe()"
   ]
  },
  {
   "cell_type": "code",
   "execution_count": 415,
   "id": "e08e7660",
   "metadata": {},
   "outputs": [
    {
     "name": "stdout",
     "output_type": "stream",
     "text": [
      "6.175 28.4\n"
     ]
    }
   ],
   "source": [
    "df5_q1 = np.percentile(df5['Value'], 25)\n",
    "df5_q3 = np.percentile(df5['Value'], 75)\n",
    "print(df5_q1, df5_q3)"
   ]
  },
  {
   "cell_type": "code",
   "execution_count": 416,
   "id": "b58f9ab3",
   "metadata": {},
   "outputs": [
    {
     "name": "stdout",
     "output_type": "stream",
     "text": [
      "-27.162499999999998 61.7375\n"
     ]
    }
   ],
   "source": [
    "iqr5 = df5_q3 - df5_q1\n",
    "iqr_threshold_bottom5 = df5_q1 - 1.5 * iqr5\n",
    "iqr_threshold_top5 = df5_q3 + 1.5 * iqr5\n",
    "print(iqr_threshold_bottom5, iqr_threshold_top5)"
   ]
  },
  {
   "cell_type": "code",
   "execution_count": 417,
   "id": "8fcbe38d",
   "metadata": {},
   "outputs": [
    {
     "data": {
      "text/plain": [
       "Country\n",
       "Eritrea                      77.900000\n",
       "Congo Democratic Republic    74.450000\n",
       "Chad                         73.650000\n",
       "Afghanistan                  73.420000\n",
       "Gambia                       72.700000\n",
       "Morocco                      71.340000\n",
       "Mali                         70.920000\n",
       "Guinea                       70.800000\n",
       "Ethiopia                     69.800000\n",
       "Timor-Leste                  67.683333\n",
       "Sierra Leone                 66.600000\n",
       "Tajikistan                   66.400000\n",
       "Burundi                      64.000000\n",
       "Azerbaijan                   62.200000\n",
       "Niger                        62.100000\n",
       "Tanzania                     62.100000\n",
       "Name: Value, dtype: float64"
      ]
     },
     "execution_count": 417,
     "metadata": {},
     "output_type": "execute_result"
    }
   ],
   "source": [
    "df5_threshold = df5[df5['Value'] > iqr_threshold_top5]\n",
    "df5_threshold.groupby(['Country'])['Value'].mean().sort_values(ascending = False)"
   ]
  },
  {
   "cell_type": "code",
   "execution_count": 418,
   "id": "2fa89b32",
   "metadata": {},
   "outputs": [
    {
     "data": {
      "text/plain": [
       "<AxesSubplot:>"
      ]
     },
     "execution_count": 418,
     "metadata": {},
     "output_type": "execute_result"
    },
    {
     "data": {
      "image/png": "[encoded data removed]",
      "text/plain": [
       "<Figure size 432x288 with 1 Axes>"
      ]
     },
     "metadata": {},
     "output_type": "display_data"
    }
   ],
   "source": [
    "df5['z_score'] = scipy.stats.zscore(df5['Value'])\n",
    "df5['z_score'].hist()"
   ]
  },
  {
   "cell_type": "code",
   "execution_count": 419,
   "id": "ee24df01",
   "metadata": {},
   "outputs": [],
   "source": [
    "df5 = df5[df5['Value'] < iqr_threshold_top5]"
   ]
  },
  {
   "cell_type": "code",
   "execution_count": 420,
   "id": "55ec153c",
   "metadata": {},
   "outputs": [
    {
     "data": {
      "text/plain": [
       "array(['Rural', 'Urban'], dtype=object)"
      ]
     },
     "execution_count": 420,
     "metadata": {},
     "output_type": "execute_result"
    }
   ],
   "source": [
    "df5['Demographics Response'].unique()"
   ]
  },
  {
   "cell_type": "code",
   "execution_count": 421,
   "id": "d2b003f3",
   "metadata": {},
   "outputs": [],
   "source": [
    "df5['Value_Rural'] = df5.apply(lambda row: row['Value'] if row['Demographics Response'] == 'Rural' else 'NaN', axis = 1)\n",
    "df5['Value_Urban'] = df5.apply(lambda row: row['Value'] if row['Demographics Response'] == 'Urban' else 'NaN', axis = 1)\n",
    "\n",
    "df5['Value_Rural'] = df5['Value_Rural'].astype('str').astype('float')\n",
    "df5['Value_Urban']= df5['Value_Urban'].astype('str').astype('float')\n",
    "\n"
   ]
  },
  {
   "cell_type": "code",
   "execution_count": 422,
   "id": "c5ff2840",
   "metadata": {},
   "outputs": [
    {
     "data": {
      "text/plain": [
       "<AxesSubplot:xlabel='Question'>"
      ]
     },
     "execution_count": 422,
     "metadata": {},
     "output_type": "execute_result"
    },
    {
     "data": {
      "image/png": "[encoded data removed]",
      "text/plain": [
       "<Figure size 1440x720 with 1 Axes>"
      ]
     },
     "metadata": {},
     "output_type": "display_data"
    }
   ],
   "source": [
    "df5.groupby(['Question'])['Value_Rural', 'Value_Urban'].mean().plot(kind = 'bar', color = ['#DAA520', '#B8860B'], figsize = (20,10))\n"
   ]
  },
  {
   "cell_type": "markdown",
   "id": "cc83a87a",
   "metadata": {},
   "source": [
    "### Вывод: Жители сельской местности больше соглашаются с причинами насилия над женщинами, чем городские жители"
   ]
  }
 ],
 "metadata": {
  "kernelspec": {
   "display_name": "Python 3 (ipykernel)",
   "language": "python",
   "name": "python3"
  },
  "language_info": {
   "codemirror_mode": {
    "name": "ipython",
    "version": 3
   },
   "file_extension": ".py",
   "mimetype": "text/x-python",
   "name": "python",
   "nbconvert_exporter": "python",
   "pygments_lexer": "ipython3",
   "version": "3.9.12"
  }
 },
 "nbformat": 4,
 "nbformat_minor": 5
}
